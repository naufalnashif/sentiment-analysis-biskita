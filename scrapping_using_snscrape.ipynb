{
  "nbformat": 4,
  "nbformat_minor": 0,
  "metadata": {
    "colab": {
      "provenance": []
    },
    "kernelspec": {
      "name": "python3",
      "display_name": "Python 3"
    },
    "language_info": {
      "name": "python"
    }
  },
  "cells": [
    {
      "cell_type": "code",
      "execution_count": null,
      "metadata": {
        "id": "TMfInjAJUoNw"
      },
      "outputs": [],
      "source": [
        "!pip install snscrape\n",
        "import pandas as pd \n",
        "import snscrape.modules.twitter as sntwitter\n",
        "from tqdm.notebook import tqdm"
      ]
    },
    {
      "cell_type": "code",
      "source": [
        "pd.set_option('max_rows', 15)\n",
        "pd.set_option('max_colwidth', 400)\n",
        "pd.describe_option('max_colwidth')"
      ],
      "metadata": {
        "id": "bVE3sYKxUy5b"
      },
      "execution_count": null,
      "outputs": []
    },
    {
      "cell_type": "code",
      "source": [
        "\n",
        "#------------------ 4 Bulan Setelah Launching ---------------------\n",
        "#scrapper = sntwitter.TwitterSearchScraper(\"Trans Pakuan until:2022-02-28 since:2021-11-01\")\n",
        "#scrapper = sntwitter.TwitterSearchScraper(\"biskita until:2022-02-28 since:2021-11-01\")\n",
        "#------------------4 Bulan setelah 1 tahun beroperasi dan saat isu diterapkannya tarif -------------------\n",
        "#scrapper = sntwitter.TwitterSearchScraper(\"Trans Pakuan until:2023-02-28 since:2022-11-01\")\n",
        "#scrapper = sntwitter.TwitterSearchScraper(\"biskita until:2023-02-28 since:2022-11-01\")\n",
        "\n",
        "\n",
        "tweets = []\n",
        "n_tweets = 9_000\n",
        "for i,tweet in tqdm(enumerate(scrapper.get_items()), total=n_tweets):\n",
        "  data = [\n",
        "    tweet.date,\n",
        "    tweet.id,\n",
        "    tweet.rawContent,\n",
        "    tweet.user.username,\n",
        "    tweet.likeCount,\n",
        "    tweet.retweetCount,\n",
        "  ]\n",
        "  tweets.append(data)\n",
        "  if i > n_tweets : \n",
        "    break\n",
        "\n",
        "df_bis_maret = pd.DataFrame(\n",
        "    tweets, columns=[\"date\", \"id\", \"content\", \"username\", \"like_count\", \"retweet_count\" ]\n",
        ")\n",
        "df_bis_maret.to_csv('Biskita_Maret.csv')"
      ],
      "metadata": {
        "id": "pkyKyLoLU0tD"
      },
      "execution_count": null,
      "outputs": []
    }
  ]
}