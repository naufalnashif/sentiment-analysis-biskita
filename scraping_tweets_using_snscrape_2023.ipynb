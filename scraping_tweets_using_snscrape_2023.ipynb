{
  "nbformat": 4,
  "nbformat_minor": 0,
  "metadata": {
    "colab": {
      "provenance": [],
      "authorship_tag": "ABX9TyOMutGSvc/JFfU0jO8RyFWB",
      "include_colab_link": true
    },
    "kernelspec": {
      "name": "python3",
      "display_name": "Python 3"
    },
    "language_info": {
      "name": "python"
    }
  },
  "cells": [
    {
      "cell_type": "markdown",
      "metadata": {
        "id": "view-in-github",
        "colab_type": "text"
      },
      "source": [
        "<a href=\"https://colab.research.google.com/github/naufalnashif/sentiment-analysis-biskita/blob/main/scraping_tweets_using_snscrape_2023.ipynb\" target=\"_parent\"><img src=\"https://colab.research.google.com/assets/colab-badge.svg\" alt=\"Open In Colab\"/></a>"
      ]
    },
    {
      "cell_type": "code",
      "execution_count": null,
      "metadata": {
        "id": "QXr1qrdKgJsa"
      },
      "outputs": [],
      "source": [
        "!pip install pandas\n",
        "!pip install git+https://github.com/JustAnotherArchivist/snscrape.git"
      ]
    },
    {
      "cell_type": "code",
      "source": [
        "import pandas as pd\n",
        "import snscrape.modules.twitter as sntwitter\n",
        "from tqdm.notebook import tqdm\n",
        "\n",
        "pd.describe_option('max_colwidth')"
      ],
      "metadata": {
        "id": "1BaORaF1hHFD"
      },
      "execution_count": null,
      "outputs": []
    },
    {
      "cell_type": "markdown",
      "source": [
        "## Get tweets using keyword 'biskita' and 'transpakuan' \n",
        "-  Since 01 Jan 2023 until 11 Jun 2023"
      ],
      "metadata": {
        "id": "oPcOXlnau9Al"
      }
    },
    {
      "cell_type": "code",
      "source": [
        "\n",
        "scrapper = sntwitter.TwitterSearchScraper(\"biskita until:2023-06-11 since:2023-01-1\")\n",
        "\n",
        "tweets = []\n",
        "n_tweets = 4_000\n",
        "for i,tweet in tqdm(enumerate(scrapper.get_items()), total=n_tweets):\n",
        "  data = [\n",
        "    tweet.date,\n",
        "    tweet.id,\n",
        "    tweet.rawContent,\n",
        "    tweet.user.username,\n",
        "    tweet.likeCount,\n",
        "    tweet.retweetCount,\n",
        "  ]\n",
        "  tweets.append(data)\n",
        "  if i > n_tweets : \n",
        "    break\n",
        "\n",
        "df_bis_2023 = pd.DataFrame(\n",
        "    tweets, columns=[\"date\", \"id\", \"content\", \"username\", \"like_count\", \"retweet_count\" ]\n",
        ")\n",
        "df_bis_2023.to_csv('Biskita_2023.csv')"
      ],
      "metadata": {
        "id": "PWY_16qWhDg1"
      },
      "execution_count": null,
      "outputs": []
    },
    {
      "cell_type": "code",
      "source": [
        "scrapper = sntwitter.TwitterSearchScraper(\"trans pakuan until:2023-06-11 since:2023-01-1\")\n",
        "\n",
        "tweets = []\n",
        "n_tweets = 4_000\n",
        "for i,tweet in tqdm(enumerate(scrapper.get_items()), total=n_tweets):\n",
        "  data = [\n",
        "    tweet.date,\n",
        "    tweet.id,\n",
        "    tweet.rawContent,\n",
        "    tweet.user.username,\n",
        "    tweet.likeCount,\n",
        "    tweet.retweetCount,\n",
        "  ]\n",
        "  tweets.append(data)\n",
        "  if i > n_tweets : \n",
        "    break\n",
        "\n",
        "df_trans_2023 = pd.DataFrame(\n",
        "    tweets, columns=[\"date\", \"id\", \"content\", \"username\", \"like_count\", \"retweet_count\" ]\n",
        ")\n",
        "df_trans_2023.to_csv('Transpakuan_2023.csv')"
      ],
      "metadata": {
        "id": "cjl2zLJ_q8oU"
      },
      "execution_count": null,
      "outputs": []
    },
    {
      "cell_type": "markdown",
      "source": [
        "## Append the data"
      ],
      "metadata": {
        "id": "BRaiW54ovfpN"
      }
    },
    {
      "cell_type": "code",
      "source": [
        "df = df_bis_2023.append(df_trans_2023)"
      ],
      "metadata": {
        "colab": {
          "base_uri": "https://localhost:8080/"
        },
        "id": "W1C26LiArQpS",
        "outputId": "0bd48a90-4c0f-490c-ab85-e3638ca1cd5e"
      },
      "execution_count": 5,
      "outputs": [
        {
          "output_type": "stream",
          "name": "stderr",
          "text": [
            "<ipython-input-5-dc12600eff31>:1: FutureWarning: The frame.append method is deprecated and will be removed from pandas in a future version. Use pandas.concat instead.\n",
            "  df = df_bis_2023.append(df_trans_2023)\n"
          ]
        }
      ]
    },
    {
      "cell_type": "code",
      "source": [
        "print(df.shape)\n",
        "print(df_bis_2023.shape)\n",
        "print(df_trans_2023.shape)"
      ],
      "metadata": {
        "colab": {
          "base_uri": "https://localhost:8080/"
        },
        "id": "bo7NT9eBhlV-",
        "outputId": "a61f5128-5b5c-447e-fdd4-4ea65aa7b184"
      },
      "execution_count": 6,
      "outputs": [
        {
          "output_type": "stream",
          "name": "stdout",
          "text": [
            "(2140, 6)\n",
            "(1719, 6)\n",
            "(421, 6)\n"
          ]
        }
      ]
    },
    {
      "cell_type": "code",
      "source": [
        "pd.set_option('display.max_colwidth', None)"
      ],
      "metadata": {
        "id": "p7g6Rtr_sJc1"
      },
      "execution_count": 7,
      "outputs": []
    },
    {
      "cell_type": "code",
      "source": [
        "df.head()"
      ],
      "metadata": {
        "colab": {
          "base_uri": "https://localhost:8080/",
          "height": 425
        },
        "id": "RkKgCMqYiDm5",
        "outputId": "84187a4a-790e-45b6-814c-64872da2648b"
      },
      "execution_count": 8,
      "outputs": [
        {
          "output_type": "execute_result",
          "data": {
            "text/plain": [
              "                       date                   id  \\\n",
              "0 2023-06-10 11:48:01+00:00  1667498850146488320   \n",
              "1 2023-06-10 10:23:02+00:00  1667477465097469952   \n",
              "2 2023-06-10 01:30:43+00:00  1667343503909855232   \n",
              "3 2023-06-09 05:34:14+00:00  1667042396390191106   \n",
              "4 2023-06-09 05:32:39+00:00  1667041998963097600   \n",
              "\n",
              "                                                                                                                                                                                                                  content  \\\n",
              "0                                                                                                                                                                    gue orang bogor tapi bingung sama rute biskita bogor   \n",
              "1                                                                                                                                                                               biskita koridor 1 klo sore jrg bgtt😮‍💨😮‍💨   \n",
              "2  ustad liat ustad ada yg males mandi padahal harus ke kantor jam 10 berarti gw harus naik biskita jam set 10an paling telat krn ke kota berarti gw harus siap siap jam 9 dan HARUS MANDI SEKARANG tapi malesszzz dingin   \n",
              "3                                                                                                                                                                                 @obese_doc Biskita apa eh maksud dia? 😂   \n",
              "4                                                                                                                                                            @EastMister0822 Biskita urang kitani jua\\n\\n(Not a Bruneian)   \n",
              "\n",
              "         username  like_count  retweet_count  \n",
              "0        wujijuyu           0              0  \n",
              "1        njaemmmn           0              0  \n",
              "2   atmylowestlow           0              0  \n",
              "3  EastMister0822           0              0  \n",
              "4       obese_doc           2              0  "
            ],
            "text/html": [
              "\n",
              "  <div id=\"df-8f9f5e1c-3911-4d53-96de-30452cfb2e79\">\n",
              "    <div class=\"colab-df-container\">\n",
              "      <div>\n",
              "<style scoped>\n",
              "    .dataframe tbody tr th:only-of-type {\n",
              "        vertical-align: middle;\n",
              "    }\n",
              "\n",
              "    .dataframe tbody tr th {\n",
              "        vertical-align: top;\n",
              "    }\n",
              "\n",
              "    .dataframe thead th {\n",
              "        text-align: right;\n",
              "    }\n",
              "</style>\n",
              "<table border=\"1\" class=\"dataframe\">\n",
              "  <thead>\n",
              "    <tr style=\"text-align: right;\">\n",
              "      <th></th>\n",
              "      <th>date</th>\n",
              "      <th>id</th>\n",
              "      <th>content</th>\n",
              "      <th>username</th>\n",
              "      <th>like_count</th>\n",
              "      <th>retweet_count</th>\n",
              "    </tr>\n",
              "  </thead>\n",
              "  <tbody>\n",
              "    <tr>\n",
              "      <th>0</th>\n",
              "      <td>2023-06-10 11:48:01+00:00</td>\n",
              "      <td>1667498850146488320</td>\n",
              "      <td>gue orang bogor tapi bingung sama rute biskita bogor</td>\n",
              "      <td>wujijuyu</td>\n",
              "      <td>0</td>\n",
              "      <td>0</td>\n",
              "    </tr>\n",
              "    <tr>\n",
              "      <th>1</th>\n",
              "      <td>2023-06-10 10:23:02+00:00</td>\n",
              "      <td>1667477465097469952</td>\n",
              "      <td>biskita koridor 1 klo sore jrg bgtt😮‍💨😮‍💨</td>\n",
              "      <td>njaemmmn</td>\n",
              "      <td>0</td>\n",
              "      <td>0</td>\n",
              "    </tr>\n",
              "    <tr>\n",
              "      <th>2</th>\n",
              "      <td>2023-06-10 01:30:43+00:00</td>\n",
              "      <td>1667343503909855232</td>\n",
              "      <td>ustad liat ustad ada yg males mandi padahal harus ke kantor jam 10 berarti gw harus naik biskita jam set 10an paling telat krn ke kota berarti gw harus siap siap jam 9 dan HARUS MANDI SEKARANG tapi malesszzz dingin</td>\n",
              "      <td>atmylowestlow</td>\n",
              "      <td>0</td>\n",
              "      <td>0</td>\n",
              "    </tr>\n",
              "    <tr>\n",
              "      <th>3</th>\n",
              "      <td>2023-06-09 05:34:14+00:00</td>\n",
              "      <td>1667042396390191106</td>\n",
              "      <td>@obese_doc Biskita apa eh maksud dia? 😂</td>\n",
              "      <td>EastMister0822</td>\n",
              "      <td>0</td>\n",
              "      <td>0</td>\n",
              "    </tr>\n",
              "    <tr>\n",
              "      <th>4</th>\n",
              "      <td>2023-06-09 05:32:39+00:00</td>\n",
              "      <td>1667041998963097600</td>\n",
              "      <td>@EastMister0822 Biskita urang kitani jua\\n\\n(Not a Bruneian)</td>\n",
              "      <td>obese_doc</td>\n",
              "      <td>2</td>\n",
              "      <td>0</td>\n",
              "    </tr>\n",
              "  </tbody>\n",
              "</table>\n",
              "</div>\n",
              "      <button class=\"colab-df-convert\" onclick=\"convertToInteractive('df-8f9f5e1c-3911-4d53-96de-30452cfb2e79')\"\n",
              "              title=\"Convert this dataframe to an interactive table.\"\n",
              "              style=\"display:none;\">\n",
              "        \n",
              "  <svg xmlns=\"http://www.w3.org/2000/svg\" height=\"24px\"viewBox=\"0 0 24 24\"\n",
              "       width=\"24px\">\n",
              "    <path d=\"M0 0h24v24H0V0z\" fill=\"none\"/>\n",
              "    <path d=\"M18.56 5.44l.94 2.06.94-2.06 2.06-.94-2.06-.94-.94-2.06-.94 2.06-2.06.94zm-11 1L8.5 8.5l.94-2.06 2.06-.94-2.06-.94L8.5 2.5l-.94 2.06-2.06.94zm10 10l.94 2.06.94-2.06 2.06-.94-2.06-.94-.94-2.06-.94 2.06-2.06.94z\"/><path d=\"M17.41 7.96l-1.37-1.37c-.4-.4-.92-.59-1.43-.59-.52 0-1.04.2-1.43.59L10.3 9.45l-7.72 7.72c-.78.78-.78 2.05 0 2.83L4 21.41c.39.39.9.59 1.41.59.51 0 1.02-.2 1.41-.59l7.78-7.78 2.81-2.81c.8-.78.8-2.07 0-2.86zM5.41 20L4 18.59l7.72-7.72 1.47 1.35L5.41 20z\"/>\n",
              "  </svg>\n",
              "      </button>\n",
              "      \n",
              "  <style>\n",
              "    .colab-df-container {\n",
              "      display:flex;\n",
              "      flex-wrap:wrap;\n",
              "      gap: 12px;\n",
              "    }\n",
              "\n",
              "    .colab-df-convert {\n",
              "      background-color: #E8F0FE;\n",
              "      border: none;\n",
              "      border-radius: 50%;\n",
              "      cursor: pointer;\n",
              "      display: none;\n",
              "      fill: #1967D2;\n",
              "      height: 32px;\n",
              "      padding: 0 0 0 0;\n",
              "      width: 32px;\n",
              "    }\n",
              "\n",
              "    .colab-df-convert:hover {\n",
              "      background-color: #E2EBFA;\n",
              "      box-shadow: 0px 1px 2px rgba(60, 64, 67, 0.3), 0px 1px 3px 1px rgba(60, 64, 67, 0.15);\n",
              "      fill: #174EA6;\n",
              "    }\n",
              "\n",
              "    [theme=dark] .colab-df-convert {\n",
              "      background-color: #3B4455;\n",
              "      fill: #D2E3FC;\n",
              "    }\n",
              "\n",
              "    [theme=dark] .colab-df-convert:hover {\n",
              "      background-color: #434B5C;\n",
              "      box-shadow: 0px 1px 3px 1px rgba(0, 0, 0, 0.15);\n",
              "      filter: drop-shadow(0px 1px 2px rgba(0, 0, 0, 0.3));\n",
              "      fill: #FFFFFF;\n",
              "    }\n",
              "  </style>\n",
              "\n",
              "      <script>\n",
              "        const buttonEl =\n",
              "          document.querySelector('#df-8f9f5e1c-3911-4d53-96de-30452cfb2e79 button.colab-df-convert');\n",
              "        buttonEl.style.display =\n",
              "          google.colab.kernel.accessAllowed ? 'block' : 'none';\n",
              "\n",
              "        async function convertToInteractive(key) {\n",
              "          const element = document.querySelector('#df-8f9f5e1c-3911-4d53-96de-30452cfb2e79');\n",
              "          const dataTable =\n",
              "            await google.colab.kernel.invokeFunction('convertToInteractive',\n",
              "                                                     [key], {});\n",
              "          if (!dataTable) return;\n",
              "\n",
              "          const docLinkHtml = 'Like what you see? Visit the ' +\n",
              "            '<a target=\"_blank\" href=https://colab.research.google.com/notebooks/data_table.ipynb>data table notebook</a>'\n",
              "            + ' to learn more about interactive tables.';\n",
              "          element.innerHTML = '';\n",
              "          dataTable['output_type'] = 'display_data';\n",
              "          await google.colab.output.renderOutput(dataTable, element);\n",
              "          const docLink = document.createElement('div');\n",
              "          docLink.innerHTML = docLinkHtml;\n",
              "          element.appendChild(docLink);\n",
              "        }\n",
              "      </script>\n",
              "    </div>\n",
              "  </div>\n",
              "  "
            ]
          },
          "metadata": {},
          "execution_count": 8
        }
      ]
    },
    {
      "cell_type": "code",
      "source": [
        "df['username'].value_counts().head(20).plot(kind = 'bar', title = 'Counts of Tweet', figsize = (10,5))"
      ],
      "metadata": {
        "colab": {
          "base_uri": "https://localhost:8080/",
          "height": 588
        },
        "id": "qciv8BjjsfX7",
        "outputId": "0fb1c6fe-7838-49da-ac2c-7599acf4ccfc"
      },
      "execution_count": 9,
      "outputs": [
        {
          "output_type": "execute_result",
          "data": {
            "text/plain": [
              "<Axes: title={'center': 'Counts of Tweet'}>"
            ]
          },
          "metadata": {},
          "execution_count": 9
        },
        {
          "output_type": "display_data",
          "data": {
            "text/plain": [
              "<Figure size 1000x500 with 1 Axes>"
            ],
            "image/png": "[encoded data removed]"
          },
          "metadata": {}
        }
      ]
    },
    {
      "cell_type": "markdown",
      "source": [
        "## Remove Duplicate Tweets based on 'Content'"
      ],
      "metadata": {
        "id": "NNkRy00-upuV"
      }
    },
    {
      "cell_type": "code",
      "source": [
        "df_drop = df.drop_duplicates(subset = ['content'])"
      ],
      "metadata": {
        "id": "szfjmbCEswa6"
      },
      "execution_count": 10,
      "outputs": []
    },
    {
      "cell_type": "code",
      "source": [
        "print('Sebelum drop duplicates : {} tweets'.format(len(df)))\n",
        "print('Sesudah drop duplicates : {} tweets'.format(len(df_drop)))\n",
        "print('Total tweet terhapus : {} tweets'.format(len(df) - len(df_drop)))"
      ],
      "metadata": {
        "colab": {
          "base_uri": "https://localhost:8080/"
        },
        "id": "6dHtSah9s7Jz",
        "outputId": "fe43c8a5-5bb0-4e0d-bbb4-33c0fb00e87e"
      },
      "execution_count": 11,
      "outputs": [
        {
          "output_type": "stream",
          "name": "stdout",
          "text": [
            "Sebelum drop duplicates : 2140 tweets\n",
            "Sesudah drop duplicates : 2023 tweets\n",
            "Total tweet terhapus : 117 tweets\n"
          ]
        }
      ]
    },
    {
      "cell_type": "markdown",
      "source": [
        "## Get the xlsx file"
      ],
      "metadata": {
        "id": "hc7lzua_uz3I"
      }
    },
    {
      "cell_type": "code",
      "source": [
        "# Convert datetime column to timezone-unaware\n",
        "df_drop['date'] = df_drop['date'].dt.tz_localize(None)\n",
        "\n",
        "df_drop.to_excel(\"bis_trans-2023.xlsx\", index=False)"
      ],
      "metadata": {
        "colab": {
          "base_uri": "https://localhost:8080/"
        },
        "id": "2weymwPpjLMW",
        "outputId": "9ff012eb-c193-453d-fd0a-482b4f2b36ab"
      },
      "execution_count": 12,
      "outputs": [
        {
          "output_type": "stream",
          "name": "stderr",
          "text": [
            "<ipython-input-12-27e826973ee7>:2: SettingWithCopyWarning: \n",
            "A value is trying to be set on a copy of a slice from a DataFrame.\n",
            "Try using .loc[row_indexer,col_indexer] = value instead\n",
            "\n",
            "See the caveats in the documentation: https://pandas.pydata.org/pandas-docs/stable/user_guide/indexing.html#returning-a-view-versus-a-copy\n",
            "  df_drop['date'] = df_drop['date'].dt.tz_localize(None)\n"
          ]
        }
      ]
    }
  ]
}