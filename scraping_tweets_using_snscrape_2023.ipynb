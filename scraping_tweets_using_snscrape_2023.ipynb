{
  "nbformat": 4,
  "nbformat_minor": 0,
  "metadata": {
    "colab": {
      "provenance": [],
      "authorship_tag": "ABX9TyO4DJDwGucJQenR3lrRq2yT",
      "include_colab_link": true
    },
    "kernelspec": {
      "name": "python3",
      "display_name": "Python 3"
    },
    "language_info": {
      "name": "python"
    }
  },
  "cells": [
    {
      "cell_type": "markdown",
      "metadata": {
        "id": "view-in-github",
        "colab_type": "text"
      },
      "source": [
        "<a href=\"https://colab.research.google.com/github/naufalnashif/sentiment-analysis-biskita/blob/main/scraping_tweets_using_snscrape_2023.ipynb\" target=\"_parent\"><img src=\"https://colab.research.google.com/assets/colab-badge.svg\" alt=\"Open In Colab\"/></a>"
      ]
    },
    {
      "cell_type": "code",
      "execution_count": null,
      "metadata": {
        "id": "QXr1qrdKgJsa"
      },
      "outputs": [],
      "source": [
        "!pip install pandas\n",
        "!pip install git+https://github.com/JustAnotherArchivist/snscrape.git"
      ]
    },
    {
      "cell_type": "code",
      "source": [
        "import pandas as pd\n",
        "import snscrape.modules.twitter as sntwitter\n",
        "from tqdm.notebook import tqdm\n",
        "\n",
        "pd.describe_option('max_colwidth')"
      ],
      "metadata": {
        "id": "1BaORaF1hHFD"
      },
      "execution_count": null,
      "outputs": []
    },
    {
      "cell_type": "markdown",
      "source": [
        "## Get tweets using keyword 'biskita' and 'transpakuan' \n",
        "-  Since 01 Jan 2023 until 11 Jun 2023"
      ],
      "metadata": {
        "id": "oPcOXlnau9Al"
      }
    },
    {
      "cell_type": "code",
      "source": [
        "\n",
        "scrapper = sntwitter.TwitterSearchScraper(\"biskita until:2023-06-11 since:2023-01-1\")\n",
        "\n",
        "tweets = []\n",
        "n_tweets = 4_000\n",
        "for i,tweet in tqdm(enumerate(scrapper.get_items()), total=n_tweets):\n",
        "  data = [\n",
        "    tweet.date,\n",
        "    tweet.id,\n",
        "    tweet.rawContent,\n",
        "    tweet.user.username,\n",
        "    tweet.likeCount,\n",
        "    tweet.retweetCount,\n",
        "  ]\n",
        "  tweets.append(data)\n",
        "  if i > n_tweets : \n",
        "    break\n",
        "\n",
        "df_bis_2023 = pd.DataFrame(\n",
        "    tweets, columns=[\"date\", \"id\", \"content\", \"username\", \"like_count\", \"retweet_count\" ]\n",
        ")\n",
        "df_bis_2023.to_csv('Biskita_2023.csv')"
      ],
      "metadata": {
        "id": "PWY_16qWhDg1"
      },
      "execution_count": null,
      "outputs": []
    },
    {
      "cell_type": "code",
      "source": [
        "scrapper = sntwitter.TwitterSearchScraper(\"trans pakuan until:2023-06-11 since:2023-01-1\")\n",
        "\n",
        "tweets = []\n",
        "n_tweets = 4_000\n",
        "for i,tweet in tqdm(enumerate(scrapper.get_items()), total=n_tweets):\n",
        "  data = [\n",
        "    tweet.date,\n",
        "    tweet.id,\n",
        "    tweet.rawContent,\n",
        "    tweet.user.username,\n",
        "    tweet.likeCount,\n",
        "    tweet.retweetCount,\n",
        "  ]\n",
        "  tweets.append(data)\n",
        "  if i > n_tweets : \n",
        "    break\n",
        "\n",
        "df_trans_2023 = pd.DataFrame(\n",
        "    tweets, columns=[\"date\", \"id\", \"content\", \"username\", \"like_count\", \"retweet_count\" ]\n",
        ")\n",
        "df_trans_2023.to_csv('Transpakuan_2023.csv')"
      ],
      "metadata": {
        "id": "cjl2zLJ_q8oU"
      },
      "execution_count": null,
      "outputs": []
    },
    {
      "cell_type": "markdown",
      "source": [
        "## Append the data"
      ],
      "metadata": {
        "id": "BRaiW54ovfpN"
      }
    },
    {
      "cell_type": "code",
      "source": [
        "df = df_bis_2023.append(df_trans_2023)"
      ],
      "metadata": {
        "colab": {
          "base_uri": "https://localhost:8080/"
        },
        "id": "W1C26LiArQpS",
        "outputId": "0bd48a90-4c0f-490c-ab85-e3638ca1cd5e"
      },
      "execution_count": 5,
      "outputs": [
        {
          "output_type": "stream",
          "name": "stderr",
          "text": [
            "<ipython-input-5-dc12600eff31>:1: FutureWarning: The frame.append method is deprecated and will be removed from pandas in a future version. Use pandas.concat instead.\n",
            "  df = df_bis_2023.append(df_trans_2023)\n"
          ]
        }
      ]
    },
    {
      "cell_type": "code",
      "source": [
        "print(df.shape)\n",
        "print(df_bis_2023.shape)\n",
        "print(df_trans_2023.shape)"
      ],
      "metadata": {
        "colab": {
          "base_uri": "https://localhost:8080/"
        },
        "id": "bo7NT9eBhlV-",
        "outputId": "a61f5128-5b5c-447e-fdd4-4ea65aa7b184"
      },
      "execution_count": 6,
      "outputs": [
        {
          "output_type": "stream",
          "name": "stdout",
          "text": [
            "(2140, 6)\n",
            "(1719, 6)\n",
            "(421, 6)\n"
          ]
        }
      ]
    },
    {
      "cell_type": "code",
      "source": [
        "pd.set_option('display.max_colwidth', None)"
      ],
      "metadata": {
        "id": "p7g6Rtr_sJc1"
      },
      "execution_count": 7,
      "outputs": []
    },
    {
      "cell_type": "code",
      "source": [
        "df.head()"
      ],
      "metadata": {
        "colab": {
          "base_uri": "https://localhost:8080/",
          "height": 425
        },
        "id": "RkKgCMqYiDm5",
        "outputId": "84187a4a-790e-45b6-814c-64872da2648b"
      },
      "execution_count": 8,
      "outputs": [
        {
          "output_type": "execute_result",
          "data": {
            "text/plain": [
              "                       date                   id  \\\n",
              "0 2023-06-10 11:48:01+00:00  1667498850146488320   \n",
              "1 2023-06-10 10:23:02+00:00  1667477465097469952   \n",
              "2 2023-06-10 01:30:43+00:00  1667343503909855232   \n",
              "3 2023-06-09 05:34:14+00:00  1667042396390191106   \n",
              "4 2023-06-09 05:32:39+00:00  1667041998963097600   \n",
              "\n",
              "                                                                                                                                                                                                                  content  \\\n",
              "0                                                                                                                                                                    gue orang bogor tapi bingung sama rute biskita bogor   \n",
              "1                                                                                                                                                                               biskita koridor 1 klo sore jrg bgtt😮‍💨😮‍💨   \n",
              "2  ustad liat ustad ada yg males mandi padahal harus ke kantor jam 10 berarti gw harus naik biskita jam set 10an paling telat krn ke kota berarti gw harus siap siap jam 9 dan HARUS MANDI SEKARANG tapi malesszzz dingin   \n",
              "3                                                                                                                                                                                 @obese_doc Biskita apa eh maksud dia? 😂   \n",
              "4                                                                                                                                                            @EastMister0822 Biskita urang kitani jua\\n\\n(Not a Bruneian)   \n",
              "\n",
              "         username  like_count  retweet_count  \n",
              "0        wujijuyu           0              0  \n",
              "1        njaemmmn           0              0  \n",
              "2   atmylowestlow           0              0  \n",
              "3  EastMister0822           0              0  \n",
              "4       obese_doc           2              0  "
            ],
            "text/html": [
              "\n",
              "  <div id=\"df-8f9f5e1c-3911-4d53-96de-30452cfb2e79\">\n",
              "    <div class=\"colab-df-container\">\n",
              "      <div>\n",
              "<style scoped>\n",
              "    .dataframe tbody tr th:only-of-type {\n",
              "        vertical-align: middle;\n",
              "    }\n",
              "\n",
              "    .dataframe tbody tr th {\n",
              "        vertical-align: top;\n",
              "    }\n",
              "\n",
              "    .dataframe thead th {\n",
              "        text-align: right;\n",
              "    }\n",
              "</style>\n",
              "<table border=\"1\" class=\"dataframe\">\n",
              "  <thead>\n",
              "    <tr style=\"text-align: right;\">\n",
              "      <th></th>\n",
              "      <th>date</th>\n",
              "      <th>id</th>\n",
              "      <th>content</th>\n",
              "      <th>username</th>\n",
              "      <th>like_count</th>\n",
              "      <th>retweet_count</th>\n",
              "    </tr>\n",
              "  </thead>\n",
              "  <tbody>\n",
              "    <tr>\n",
              "      <th>0</th>\n",
              "      <td>2023-06-10 11:48:01+00:00</td>\n",
              "      <td>1667498850146488320</td>\n",
              "      <td>gue orang bogor tapi bingung sama rute biskita bogor</td>\n",
              "      <td>wujijuyu</td>\n",
              "      <td>0</td>\n",
              "      <td>0</td>\n",
              "    </tr>\n",
              "    <tr>\n",
              "      <th>1</th>\n",
              "      <td>2023-06-10 10:23:02+00:00</td>\n",
              "      <td>1667477465097469952</td>\n",
              "      <td>biskita koridor 1 klo sore jrg bgtt😮‍💨😮‍💨</td>\n",
              "      <td>njaemmmn</td>\n",
              "      <td>0</td>\n",
              "      <td>0</td>\n",
              "    </tr>\n",
              "    <tr>\n",
              "      <th>2</th>\n",
              "      <td>2023-06-10 01:30:43+00:00</td>\n",
              "      <td>1667343503909855232</td>\n",
              "      <td>ustad liat ustad ada yg males mandi padahal harus ke kantor jam 10 berarti gw harus naik biskita jam set 10an paling telat krn ke kota berarti gw harus siap siap jam 9 dan HARUS MANDI SEKARANG tapi malesszzz dingin</td>\n",
              "      <td>atmylowestlow</td>\n",
              "      <td>0</td>\n",
              "      <td>0</td>\n",
              "    </tr>\n",
              "    <tr>\n",
              "      <th>3</th>\n",
              "      <td>2023-06-09 05:34:14+00:00</td>\n",
              "      <td>1667042396390191106</td>\n",
              "      <td>@obese_doc Biskita apa eh maksud dia? 😂</td>\n",
              "      <td>EastMister0822</td>\n",
              "      <td>0</td>\n",
              "      <td>0</td>\n",
              "    </tr>\n",
              "    <tr>\n",
              "      <th>4</th>\n",
              "      <td>2023-06-09 05:32:39+00:00</td>\n",
              "      <td>1667041998963097600</td>\n",
              "      <td>@EastMister0822 Biskita urang kitani jua\\n\\n(Not a Bruneian)</td>\n",
              "      <td>obese_doc</td>\n",
              "      <td>2</td>\n",
              "      <td>0</td>\n",
              "    </tr>\n",
              "  </tbody>\n",
              "</table>\n",
              "</div>\n",
              "      <button class=\"colab-df-convert\" onclick=\"convertToInteractive('df-8f9f5e1c-3911-4d53-96de-30452cfb2e79')\"\n",
              "              title=\"Convert this dataframe to an interactive table.\"\n",
              "              style=\"display:none;\">\n",
              "        \n",
              "  <svg xmlns=\"http://www.w3.org/2000/svg\" height=\"24px\"viewBox=\"0 0 24 24\"\n",
              "       width=\"24px\">\n",
              "    <path d=\"M0 0h24v24H0V0z\" fill=\"none\"/>\n",
              "    <path d=\"M18.56 5.44l.94 2.06.94-2.06 2.06-.94-2.06-.94-.94-2.06-.94 2.06-2.06.94zm-11 1L8.5 8.5l.94-2.06 2.06-.94-2.06-.94L8.5 2.5l-.94 2.06-2.06.94zm10 10l.94 2.06.94-2.06 2.06-.94-2.06-.94-.94-2.06-.94 2.06-2.06.94z\"/><path d=\"M17.41 7.96l-1.37-1.37c-.4-.4-.92-.59-1.43-.59-.52 0-1.04.2-1.43.59L10.3 9.45l-7.72 7.72c-.78.78-.78 2.05 0 2.83L4 21.41c.39.39.9.59 1.41.59.51 0 1.02-.2 1.41-.59l7.78-7.78 2.81-2.81c.8-.78.8-2.07 0-2.86zM5.41 20L4 18.59l7.72-7.72 1.47 1.35L5.41 20z\"/>\n",
              "  </svg>\n",
              "      </button>\n",
              "      \n",
              "  <style>\n",
              "    .colab-df-container {\n",
              "      display:flex;\n",
              "      flex-wrap:wrap;\n",
              "      gap: 12px;\n",
              "    }\n",
              "\n",
              "    .colab-df-convert {\n",
              "      background-color: #E8F0FE;\n",
              "      border: none;\n",
              "      border-radius: 50%;\n",
              "      cursor: pointer;\n",
              "      display: none;\n",
              "      fill: #1967D2;\n",
              "      height: 32px;\n",
              "      padding: 0 0 0 0;\n",
              "      width: 32px;\n",
              "    }\n",
              "\n",
              "    .colab-df-convert:hover {\n",
              "      background-color: #E2EBFA;\n",
              "      box-shadow: 0px 1px 2px rgba(60, 64, 67, 0.3), 0px 1px 3px 1px rgba(60, 64, 67, 0.15);\n",
              "      fill: #174EA6;\n",
              "    }\n",
              "\n",
              "    [theme=dark] .colab-df-convert {\n",
              "      background-color: #3B4455;\n",
              "      fill: #D2E3FC;\n",
              "    }\n",
              "\n",
              "    [theme=dark] .colab-df-convert:hover {\n",
              "      background-color: #434B5C;\n",
              "      box-shadow: 0px 1px 3px 1px rgba(0, 0, 0, 0.15);\n",
              "      filter: drop-shadow(0px 1px 2px rgba(0, 0, 0, 0.3));\n",
              "      fill: #FFFFFF;\n",
              "    }\n",
              "  </style>\n",
              "\n",
              "      <script>\n",
              "        const buttonEl =\n",
              "          document.querySelector('#df-8f9f5e1c-3911-4d53-96de-30452cfb2e79 button.colab-df-convert');\n",
              "        buttonEl.style.display =\n",
              "          google.colab.kernel.accessAllowed ? 'block' : 'none';\n",
              "\n",
              "        async function convertToInteractive(key) {\n",
              "          const element = document.querySelector('#df-8f9f5e1c-3911-4d53-96de-30452cfb2e79');\n",
              "          const dataTable =\n",
              "            await google.colab.kernel.invokeFunction('convertToInteractive',\n",
              "                                                     [key], {});\n",
              "          if (!dataTable) return;\n",
              "\n",
              "          const docLinkHtml = 'Like what you see? Visit the ' +\n",
              "            '<a target=\"_blank\" href=https://colab.research.google.com/notebooks/data_table.ipynb>data table notebook</a>'\n",
              "            + ' to learn more about interactive tables.';\n",
              "          element.innerHTML = '';\n",
              "          dataTable['output_type'] = 'display_data';\n",
              "          await google.colab.output.renderOutput(dataTable, element);\n",
              "          const docLink = document.createElement('div');\n",
              "          docLink.innerHTML = docLinkHtml;\n",
              "          element.appendChild(docLink);\n",
              "        }\n",
              "      </script>\n",
              "    </div>\n",
              "  </div>\n",
              "  "
            ]
          },
          "metadata": {},
          "execution_count": 8
        }
      ]
    },
    {
      "cell_type": "code",
      "source": [
        "df['username'].value_counts().head(20).plot(kind = 'bar', title = 'Counts of Tweet', figsize = (10,5))"
      ],
      "metadata": {
        "colab": {
          "base_uri": "https://localhost:8080/",
          "height": 588
        },
        "id": "qciv8BjjsfX7",
        "outputId": "0fb1c6fe-7838-49da-ac2c-7599acf4ccfc"
      },
      "execution_count": 9,
      "outputs": [
        {
          "output_type": "execute_result",
          "data": {
            "text/plain": [
              "<Axes: title={'center': 'Counts of Tweet'}>"
            ]
          },
          "metadata": {},
          "execution_count": 9
        },
        {
          "output_type": "display_data",
          "data": {
            "text/plain": [
              "<Figure size 1000x500 with 1 Axes>"
            ],
            "image/png": "[encoded data removed]"
          },
          "metadata": {}
        }
      ]
    },
    {
      "cell_type": "markdown",
      "source": [
        "## Remove Duplicate Tweets based on 'Content'"
      ],
      "metadata": {
        "id": "NNkRy00-upuV"
      }
    },
    {
      "cell_type": "code",
      "source": [
        "df_drop = df.drop_duplicates(subset = ['content'])"
      ],
      "metadata": {
        "id": "szfjmbCEswa6"
      },
      "execution_count": 10,
      "outputs": []
    },
    {
      "cell_type": "code",
      "source": [
        "print('Sebelum drop duplicates : {} tweets'.format(len(df)))\n",
        "print('Sesudah drop duplicates : {} tweets'.format(len(df_drop)))\n",
        "print('Total tweet terhapus : {} tweets'.format(len(df) - len(df_drop)))"
      ],
      "metadata": {
        "colab": {
          "base_uri": "https://localhost:8080/"
        },
        "id": "6dHtSah9s7Jz",
        "outputId": "fe43c8a5-5bb0-4e0d-bbb4-33c0fb00e87e"
      },
      "execution_count": 11,
      "outputs": [
        {
          "output_type": "stream",
          "name": "stdout",
          "text": [
            "Sebelum drop duplicates : 2140 tweets\n",
            "Sesudah drop duplicates : 2023 tweets\n",
            "Total tweet terhapus : 117 tweets\n"
          ]
        }
      ]
    },
    {
      "cell_type": "code",
      "source": [
        "df['username'].value_counts().head(20).plot(kind = 'bar', title = 'Counts of Tweet', figsize = (10,5), color = 'r')\n",
        "df_drop['username'].value_counts().head(20).plot(kind = 'bar', title = 'Counts of Tweet', figsize = (10,5), bottom = True, color = 'g')"
      ],
      "metadata": {
        "colab": {
          "base_uri": "https://localhost:8080/",
          "height": 576
        },
        "id": "CMxh1pwbymRB",
        "outputId": "a225c23c-d3a8-4d52-a74e-403825915e95"
      },
      "execution_count": 13,
      "outputs": [
        {
          "output_type": "execute_result",
          "data": {
            "text/plain": [
              "<Axes: title={'center': 'Counts of Tweet'}>"
            ]
          },
          "metadata": {},
          "execution_count": 13
        },
        {
          "output_type": "display_data",
          "data": {
            "text/plain": [
              "<Figure size 1000x500 with 1 Axes>"
            ],
            "image/png": "[encoded data removed]"
          },
          "metadata": {}
        }
      ]
    },
    {
      "cell_type": "code",
      "source": [
        "df_dupl = df[df.duplicated(subset = ['content'])]\n",
        "df_dupl"
      ],
      "metadata": {
        "colab": {
          "base_uri": "https://localhost:8080/",
          "height": 967
        },
        "id": "RMkFekTCyrzF",
        "outputId": "7a16e9ea-1c91-4076-bf03-5e5ac0f006cd"
      },
      "execution_count": 18,
      "outputs": [
        {
          "output_type": "execute_result",
          "data": {
            "text/plain": [
              "                          date                   id  \\\n",
              "771  2023-04-10 05:49:41+00:00  1645303012242640897   \n",
              "798  2023-04-05 15:39:24+00:00  1643639483219230722   \n",
              "889  2023-04-01 04:06:19+00:00  1642015510362738690   \n",
              "1307 2023-02-07 08:10:01+00:00  1622870280950673411   \n",
              "7    2023-06-09 05:14:03+00:00  1667037319650775040   \n",
              "...                        ...                  ...   \n",
              "403  2023-01-05 11:17:48+00:00  1610958739447619585   \n",
              "404  2023-01-05 11:00:05+00:00  1610954282676936707   \n",
              "405  2023-01-05 10:07:57+00:00  1610941163695112198   \n",
              "408  2023-01-05 07:48:58+00:00  1610906186353872898   \n",
              "409  2023-01-05 07:40:17+00:00  1610903999301177346   \n",
              "\n",
              "                                                                                                                                                                                         content  \\\n",
              "771                                                                                                                      [bgr] mau nanya dong, biskita masih gratis atau udah mulai berbayar ya?   \n",
              "798                                                                                                                      [bgr] mau nanya dong, biskita masih gratis atau udah mulai berbayar ya?   \n",
              "889                                               @bogorfess_ sorry oot, ada yg tau cara naik biskita dari halte smkn3 ke stasiun bogor? aplikasi biskita dari tadi buffering terus, thanks guys   \n",
              "1307                                                                                                                                                          [bgr] biskita masih gratis kan ya?   \n",
              "7     weheey.. mayan ada peningkatan. Cuma itu mesin tap nya masih kurang handal euy.. jauh beda sama yg dipake TransPakuan BisKita.. tinggal tap sebentar langsung respons.. \\n@PT_Transjakarta   \n",
              "...                                                                                                                                                                                          ...   \n",
              "403                                                                                                  Pemkot Bogor Kaji Tiket Terusan, Biskita Transpakuan Masih Gratis | https://t.co/jrem9yGM7s   \n",
              "404                                                              Biskita Transpakuan Rencana Dikenakan Tarif Rp5.500, Pemkot Kaji Tiket Terusan - https://t.co/n0rHddAEQu #biskita @txtdaribogor   \n",
              "405                                                [bgr] GAIS Ini teh biskita Transpakuan k2 ga jalan ya? 😭 anying 1 jam nungguan di taman topi ga muncul-muncul. Mana geus numpuk orang orang 😭   \n",
              "408                                                                                               Tarif Biskita Transpakuan Diusulkan Rp5.500, Pemkot Kaji Tiket Terusan https://t.co/WcU10NgIRO   \n",
              "409                                                                                Radar Bogor : Tarif Biskita Transpakuan Diusulkan Rp5.500, Pemkot Kaji Tiket Terusan  https://t.co/a4N9O0rUTG   \n",
              "\n",
              "            username  like_count  retweet_count  \n",
              "771       bogorfess_           1              0  \n",
              "798       bogorfess_           0              0  \n",
              "889         paboppaa           0              0  \n",
              "1307      bogorfess_           2              0  \n",
              "7          Pak_Dimas           0              1  \n",
              "...              ...         ...            ...  \n",
              "403   inilahkorancom           0              0  \n",
              "404    web_bogorkita           0              1  \n",
              "405       bogorfess_           2              0  \n",
              "408     radarbogorID           0              0  \n",
              "409        idnjaya89           0              0  \n",
              "\n",
              "[117 rows x 6 columns]"
            ],
            "text/html": [
              "\n",
              "  <div id=\"df-211ed7cd-fd69-4d5a-90c8-5c1976a6b60e\">\n",
              "    <div class=\"colab-df-container\">\n",
              "      <div>\n",
              "<style scoped>\n",
              "    .dataframe tbody tr th:only-of-type {\n",
              "        vertical-align: middle;\n",
              "    }\n",
              "\n",
              "    .dataframe tbody tr th {\n",
              "        vertical-align: top;\n",
              "    }\n",
              "\n",
              "    .dataframe thead th {\n",
              "        text-align: right;\n",
              "    }\n",
              "</style>\n",
              "<table border=\"1\" class=\"dataframe\">\n",
              "  <thead>\n",
              "    <tr style=\"text-align: right;\">\n",
              "      <th></th>\n",
              "      <th>date</th>\n",
              "      <th>id</th>\n",
              "      <th>content</th>\n",
              "      <th>username</th>\n",
              "      <th>like_count</th>\n",
              "      <th>retweet_count</th>\n",
              "    </tr>\n",
              "  </thead>\n",
              "  <tbody>\n",
              "    <tr>\n",
              "      <th>771</th>\n",
              "      <td>2023-04-10 05:49:41+00:00</td>\n",
              "      <td>1645303012242640897</td>\n",
              "      <td>[bgr] mau nanya dong, biskita masih gratis atau udah mulai berbayar ya?</td>\n",
              "      <td>bogorfess_</td>\n",
              "      <td>1</td>\n",
              "      <td>0</td>\n",
              "    </tr>\n",
              "    <tr>\n",
              "      <th>798</th>\n",
              "      <td>2023-04-05 15:39:24+00:00</td>\n",
              "      <td>1643639483219230722</td>\n",
              "      <td>[bgr] mau nanya dong, biskita masih gratis atau udah mulai berbayar ya?</td>\n",
              "      <td>bogorfess_</td>\n",
              "      <td>0</td>\n",
              "      <td>0</td>\n",
              "    </tr>\n",
              "    <tr>\n",
              "      <th>889</th>\n",
              "      <td>2023-04-01 04:06:19+00:00</td>\n",
              "      <td>1642015510362738690</td>\n",
              "      <td>@bogorfess_ sorry oot, ada yg tau cara naik biskita dari halte smkn3 ke stasiun bogor? aplikasi biskita dari tadi buffering terus, thanks guys</td>\n",
              "      <td>paboppaa</td>\n",
              "      <td>0</td>\n",
              "      <td>0</td>\n",
              "    </tr>\n",
              "    <tr>\n",
              "      <th>1307</th>\n",
              "      <td>2023-02-07 08:10:01+00:00</td>\n",
              "      <td>1622870280950673411</td>\n",
              "      <td>[bgr] biskita masih gratis kan ya?</td>\n",
              "      <td>bogorfess_</td>\n",
              "      <td>2</td>\n",
              "      <td>0</td>\n",
              "    </tr>\n",
              "    <tr>\n",
              "      <th>7</th>\n",
              "      <td>2023-06-09 05:14:03+00:00</td>\n",
              "      <td>1667037319650775040</td>\n",
              "      <td>weheey.. mayan ada peningkatan. Cuma itu mesin tap nya masih kurang handal euy.. jauh beda sama yg dipake TransPakuan BisKita.. tinggal tap sebentar langsung respons.. \\n@PT_Transjakarta</td>\n",
              "      <td>Pak_Dimas</td>\n",
              "      <td>0</td>\n",
              "      <td>1</td>\n",
              "    </tr>\n",
              "    <tr>\n",
              "      <th>...</th>\n",
              "      <td>...</td>\n",
              "      <td>...</td>\n",
              "      <td>...</td>\n",
              "      <td>...</td>\n",
              "      <td>...</td>\n",
              "      <td>...</td>\n",
              "    </tr>\n",
              "    <tr>\n",
              "      <th>403</th>\n",
              "      <td>2023-01-05 11:17:48+00:00</td>\n",
              "      <td>1610958739447619585</td>\n",
              "      <td>Pemkot Bogor Kaji Tiket Terusan, Biskita Transpakuan Masih Gratis | https://t.co/jrem9yGM7s</td>\n",
              "      <td>inilahkorancom</td>\n",
              "      <td>0</td>\n",
              "      <td>0</td>\n",
              "    </tr>\n",
              "    <tr>\n",
              "      <th>404</th>\n",
              "      <td>2023-01-05 11:00:05+00:00</td>\n",
              "      <td>1610954282676936707</td>\n",
              "      <td>Biskita Transpakuan Rencana Dikenakan Tarif Rp5.500, Pemkot Kaji Tiket Terusan - https://t.co/n0rHddAEQu #biskita @txtdaribogor</td>\n",
              "      <td>web_bogorkita</td>\n",
              "      <td>0</td>\n",
              "      <td>1</td>\n",
              "    </tr>\n",
              "    <tr>\n",
              "      <th>405</th>\n",
              "      <td>2023-01-05 10:07:57+00:00</td>\n",
              "      <td>1610941163695112198</td>\n",
              "      <td>[bgr] GAIS Ini teh biskita Transpakuan k2 ga jalan ya? 😭 anying 1 jam nungguan di taman topi ga muncul-muncul. Mana geus numpuk orang orang 😭</td>\n",
              "      <td>bogorfess_</td>\n",
              "      <td>2</td>\n",
              "      <td>0</td>\n",
              "    </tr>\n",
              "    <tr>\n",
              "      <th>408</th>\n",
              "      <td>2023-01-05 07:48:58+00:00</td>\n",
              "      <td>1610906186353872898</td>\n",
              "      <td>Tarif Biskita Transpakuan Diusulkan Rp5.500, Pemkot Kaji Tiket Terusan https://t.co/WcU10NgIRO</td>\n",
              "      <td>radarbogorID</td>\n",
              "      <td>0</td>\n",
              "      <td>0</td>\n",
              "    </tr>\n",
              "    <tr>\n",
              "      <th>409</th>\n",
              "      <td>2023-01-05 07:40:17+00:00</td>\n",
              "      <td>1610903999301177346</td>\n",
              "      <td>Radar Bogor : Tarif Biskita Transpakuan Diusulkan Rp5.500, Pemkot Kaji Tiket Terusan  https://t.co/a4N9O0rUTG</td>\n",
              "      <td>idnjaya89</td>\n",
              "      <td>0</td>\n",
              "      <td>0</td>\n",
              "    </tr>\n",
              "  </tbody>\n",
              "</table>\n",
              "<p>117 rows × 6 columns</p>\n",
              "</div>\n",
              "      <button class=\"colab-df-convert\" onclick=\"convertToInteractive('df-211ed7cd-fd69-4d5a-90c8-5c1976a6b60e')\"\n",
              "              title=\"Convert this dataframe to an interactive table.\"\n",
              "              style=\"display:none;\">\n",
              "        \n",
              "  <svg xmlns=\"http://www.w3.org/2000/svg\" height=\"24px\"viewBox=\"0 0 24 24\"\n",
              "       width=\"24px\">\n",
              "    <path d=\"M0 0h24v24H0V0z\" fill=\"none\"/>\n",
              "    <path d=\"M18.56 5.44l.94 2.06.94-2.06 2.06-.94-2.06-.94-.94-2.06-.94 2.06-2.06.94zm-11 1L8.5 8.5l.94-2.06 2.06-.94-2.06-.94L8.5 2.5l-.94 2.06-2.06.94zm10 10l.94 2.06.94-2.06 2.06-.94-2.06-.94-.94-2.06-.94 2.06-2.06.94z\"/><path d=\"M17.41 7.96l-1.37-1.37c-.4-.4-.92-.59-1.43-.59-.52 0-1.04.2-1.43.59L10.3 9.45l-7.72 7.72c-.78.78-.78 2.05 0 2.83L4 21.41c.39.39.9.59 1.41.59.51 0 1.02-.2 1.41-.59l7.78-7.78 2.81-2.81c.8-.78.8-2.07 0-2.86zM5.41 20L4 18.59l7.72-7.72 1.47 1.35L5.41 20z\"/>\n",
              "  </svg>\n",
              "      </button>\n",
              "      \n",
              "  <style>\n",
              "    .colab-df-container {\n",
              "      display:flex;\n",
              "      flex-wrap:wrap;\n",
              "      gap: 12px;\n",
              "    }\n",
              "\n",
              "    .colab-df-convert {\n",
              "      background-color: #E8F0FE;\n",
              "      border: none;\n",
              "      border-radius: 50%;\n",
              "      cursor: pointer;\n",
              "      display: none;\n",
              "      fill: #1967D2;\n",
              "      height: 32px;\n",
              "      padding: 0 0 0 0;\n",
              "      width: 32px;\n",
              "    }\n",
              "\n",
              "    .colab-df-convert:hover {\n",
              "      background-color: #E2EBFA;\n",
              "      box-shadow: 0px 1px 2px rgba(60, 64, 67, 0.3), 0px 1px 3px 1px rgba(60, 64, 67, 0.15);\n",
              "      fill: #174EA6;\n",
              "    }\n",
              "\n",
              "    [theme=dark] .colab-df-convert {\n",
              "      background-color: #3B4455;\n",
              "      fill: #D2E3FC;\n",
              "    }\n",
              "\n",
              "    [theme=dark] .colab-df-convert:hover {\n",
              "      background-color: #434B5C;\n",
              "      box-shadow: 0px 1px 3px 1px rgba(0, 0, 0, 0.15);\n",
              "      filter: drop-shadow(0px 1px 2px rgba(0, 0, 0, 0.3));\n",
              "      fill: #FFFFFF;\n",
              "    }\n",
              "  </style>\n",
              "\n",
              "      <script>\n",
              "        const buttonEl =\n",
              "          document.querySelector('#df-211ed7cd-fd69-4d5a-90c8-5c1976a6b60e button.colab-df-convert');\n",
              "        buttonEl.style.display =\n",
              "          google.colab.kernel.accessAllowed ? 'block' : 'none';\n",
              "\n",
              "        async function convertToInteractive(key) {\n",
              "          const element = document.querySelector('#df-211ed7cd-fd69-4d5a-90c8-5c1976a6b60e');\n",
              "          const dataTable =\n",
              "            await google.colab.kernel.invokeFunction('convertToInteractive',\n",
              "                                                     [key], {});\n",
              "          if (!dataTable) return;\n",
              "\n",
              "          const docLinkHtml = 'Like what you see? Visit the ' +\n",
              "            '<a target=\"_blank\" href=https://colab.research.google.com/notebooks/data_table.ipynb>data table notebook</a>'\n",
              "            + ' to learn more about interactive tables.';\n",
              "          element.innerHTML = '';\n",
              "          dataTable['output_type'] = 'display_data';\n",
              "          await google.colab.output.renderOutput(dataTable, element);\n",
              "          const docLink = document.createElement('div');\n",
              "          docLink.innerHTML = docLinkHtml;\n",
              "          element.appendChild(docLink);\n",
              "        }\n",
              "      </script>\n",
              "    </div>\n",
              "  </div>\n",
              "  "
            ]
          },
          "metadata": {},
          "execution_count": 18
        }
      ]
    },
    {
      "cell_type": "code",
      "source": [
        "df[df['content'] == 'Pemkot Bogor Kaji Tiket Terusan, Biskita Transpakuan Masih Gratis | https://t.co/jrem9yGM7s']"
      ],
      "metadata": {
        "colab": {
          "base_uri": "https://localhost:8080/",
          "height": 234
        },
        "id": "3oARRyxTy5M9",
        "outputId": "cf3d1493-3244-4e68-cbe5-c6015b32eed0"
      },
      "execution_count": 16,
      "outputs": [
        {
          "output_type": "execute_result",
          "data": {
            "text/plain": [
              "                          date                   id  \\\n",
              "1665 2023-01-05 11:17:48+00:00  1610958739447619585   \n",
              "403  2023-01-05 11:17:48+00:00  1610958739447619585   \n",
              "\n",
              "                                                                                          content  \\\n",
              "1665  Pemkot Bogor Kaji Tiket Terusan, Biskita Transpakuan Masih Gratis | https://t.co/jrem9yGM7s   \n",
              "403   Pemkot Bogor Kaji Tiket Terusan, Biskita Transpakuan Masih Gratis | https://t.co/jrem9yGM7s   \n",
              "\n",
              "            username  like_count  retweet_count  \n",
              "1665  inilahkorancom           0              0  \n",
              "403   inilahkorancom           0              0  "
            ],
            "text/html": [
              "\n",
              "  <div id=\"df-307cd871-91a3-4cdc-b2df-b83446e1b072\">\n",
              "    <div class=\"colab-df-container\">\n",
              "      <div>\n",
              "<style scoped>\n",
              "    .dataframe tbody tr th:only-of-type {\n",
              "        vertical-align: middle;\n",
              "    }\n",
              "\n",
              "    .dataframe tbody tr th {\n",
              "        vertical-align: top;\n",
              "    }\n",
              "\n",
              "    .dataframe thead th {\n",
              "        text-align: right;\n",
              "    }\n",
              "</style>\n",
              "<table border=\"1\" class=\"dataframe\">\n",
              "  <thead>\n",
              "    <tr style=\"text-align: right;\">\n",
              "      <th></th>\n",
              "      <th>date</th>\n",
              "      <th>id</th>\n",
              "      <th>content</th>\n",
              "      <th>username</th>\n",
              "      <th>like_count</th>\n",
              "      <th>retweet_count</th>\n",
              "    </tr>\n",
              "  </thead>\n",
              "  <tbody>\n",
              "    <tr>\n",
              "      <th>1665</th>\n",
              "      <td>2023-01-05 11:17:48+00:00</td>\n",
              "      <td>1610958739447619585</td>\n",
              "      <td>Pemkot Bogor Kaji Tiket Terusan, Biskita Transpakuan Masih Gratis | https://t.co/jrem9yGM7s</td>\n",
              "      <td>inilahkorancom</td>\n",
              "      <td>0</td>\n",
              "      <td>0</td>\n",
              "    </tr>\n",
              "    <tr>\n",
              "      <th>403</th>\n",
              "      <td>2023-01-05 11:17:48+00:00</td>\n",
              "      <td>1610958739447619585</td>\n",
              "      <td>Pemkot Bogor Kaji Tiket Terusan, Biskita Transpakuan Masih Gratis | https://t.co/jrem9yGM7s</td>\n",
              "      <td>inilahkorancom</td>\n",
              "      <td>0</td>\n",
              "      <td>0</td>\n",
              "    </tr>\n",
              "  </tbody>\n",
              "</table>\n",
              "</div>\n",
              "      <button class=\"colab-df-convert\" onclick=\"convertToInteractive('df-307cd871-91a3-4cdc-b2df-b83446e1b072')\"\n",
              "              title=\"Convert this dataframe to an interactive table.\"\n",
              "              style=\"display:none;\">\n",
              "        \n",
              "  <svg xmlns=\"http://www.w3.org/2000/svg\" height=\"24px\"viewBox=\"0 0 24 24\"\n",
              "       width=\"24px\">\n",
              "    <path d=\"M0 0h24v24H0V0z\" fill=\"none\"/>\n",
              "    <path d=\"M18.56 5.44l.94 2.06.94-2.06 2.06-.94-2.06-.94-.94-2.06-.94 2.06-2.06.94zm-11 1L8.5 8.5l.94-2.06 2.06-.94-2.06-.94L8.5 2.5l-.94 2.06-2.06.94zm10 10l.94 2.06.94-2.06 2.06-.94-2.06-.94-.94-2.06-.94 2.06-2.06.94z\"/><path d=\"M17.41 7.96l-1.37-1.37c-.4-.4-.92-.59-1.43-.59-.52 0-1.04.2-1.43.59L10.3 9.45l-7.72 7.72c-.78.78-.78 2.05 0 2.83L4 21.41c.39.39.9.59 1.41.59.51 0 1.02-.2 1.41-.59l7.78-7.78 2.81-2.81c.8-.78.8-2.07 0-2.86zM5.41 20L4 18.59l7.72-7.72 1.47 1.35L5.41 20z\"/>\n",
              "  </svg>\n",
              "      </button>\n",
              "      \n",
              "  <style>\n",
              "    .colab-df-container {\n",
              "      display:flex;\n",
              "      flex-wrap:wrap;\n",
              "      gap: 12px;\n",
              "    }\n",
              "\n",
              "    .colab-df-convert {\n",
              "      background-color: #E8F0FE;\n",
              "      border: none;\n",
              "      border-radius: 50%;\n",
              "      cursor: pointer;\n",
              "      display: none;\n",
              "      fill: #1967D2;\n",
              "      height: 32px;\n",
              "      padding: 0 0 0 0;\n",
              "      width: 32px;\n",
              "    }\n",
              "\n",
              "    .colab-df-convert:hover {\n",
              "      background-color: #E2EBFA;\n",
              "      box-shadow: 0px 1px 2px rgba(60, 64, 67, 0.3), 0px 1px 3px 1px rgba(60, 64, 67, 0.15);\n",
              "      fill: #174EA6;\n",
              "    }\n",
              "\n",
              "    [theme=dark] .colab-df-convert {\n",
              "      background-color: #3B4455;\n",
              "      fill: #D2E3FC;\n",
              "    }\n",
              "\n",
              "    [theme=dark] .colab-df-convert:hover {\n",
              "      background-color: #434B5C;\n",
              "      box-shadow: 0px 1px 3px 1px rgba(0, 0, 0, 0.15);\n",
              "      filter: drop-shadow(0px 1px 2px rgba(0, 0, 0, 0.3));\n",
              "      fill: #FFFFFF;\n",
              "    }\n",
              "  </style>\n",
              "\n",
              "      <script>\n",
              "        const buttonEl =\n",
              "          document.querySelector('#df-307cd871-91a3-4cdc-b2df-b83446e1b072 button.colab-df-convert');\n",
              "        buttonEl.style.display =\n",
              "          google.colab.kernel.accessAllowed ? 'block' : 'none';\n",
              "\n",
              "        async function convertToInteractive(key) {\n",
              "          const element = document.querySelector('#df-307cd871-91a3-4cdc-b2df-b83446e1b072');\n",
              "          const dataTable =\n",
              "            await google.colab.kernel.invokeFunction('convertToInteractive',\n",
              "                                                     [key], {});\n",
              "          if (!dataTable) return;\n",
              "\n",
              "          const docLinkHtml = 'Like what you see? Visit the ' +\n",
              "            '<a target=\"_blank\" href=https://colab.research.google.com/notebooks/data_table.ipynb>data table notebook</a>'\n",
              "            + ' to learn more about interactive tables.';\n",
              "          element.innerHTML = '';\n",
              "          dataTable['output_type'] = 'display_data';\n",
              "          await google.colab.output.renderOutput(dataTable, element);\n",
              "          const docLink = document.createElement('div');\n",
              "          docLink.innerHTML = docLinkHtml;\n",
              "          element.appendChild(docLink);\n",
              "        }\n",
              "      </script>\n",
              "    </div>\n",
              "  </div>\n",
              "  "
            ]
          },
          "metadata": {},
          "execution_count": 16
        }
      ]
    },
    {
      "cell_type": "code",
      "source": [
        "df[df['content'] == 'Tarif Biskita Transpakuan Diusulkan Rp5.500, Pemkot Kaji Tiket Terusan https://t.co/WcU10NgIRO']"
      ],
      "metadata": {
        "colab": {
          "base_uri": "https://localhost:8080/",
          "height": 234
        },
        "id": "pZ4k5-omzY9m",
        "outputId": "b56c0a8f-5c5f-4a99-b008-dd0b18b1dbd1"
      },
      "execution_count": 17,
      "outputs": [
        {
          "output_type": "execute_result",
          "data": {
            "text/plain": [
              "                          date                   id  \\\n",
              "1670 2023-01-05 07:48:58+00:00  1610906186353872898   \n",
              "408  2023-01-05 07:48:58+00:00  1610906186353872898   \n",
              "\n",
              "                                                                                             content  \\\n",
              "1670  Tarif Biskita Transpakuan Diusulkan Rp5.500, Pemkot Kaji Tiket Terusan https://t.co/WcU10NgIRO   \n",
              "408   Tarif Biskita Transpakuan Diusulkan Rp5.500, Pemkot Kaji Tiket Terusan https://t.co/WcU10NgIRO   \n",
              "\n",
              "          username  like_count  retweet_count  \n",
              "1670  radarbogorID           0              0  \n",
              "408   radarbogorID           0              0  "
            ],
            "text/html": [
              "\n",
              "  <div id=\"df-7b1f2d9d-d97a-4924-8542-d6e026cad624\">\n",
              "    <div class=\"colab-df-container\">\n",
              "      <div>\n",
              "<style scoped>\n",
              "    .dataframe tbody tr th:only-of-type {\n",
              "        vertical-align: middle;\n",
              "    }\n",
              "\n",
              "    .dataframe tbody tr th {\n",
              "        vertical-align: top;\n",
              "    }\n",
              "\n",
              "    .dataframe thead th {\n",
              "        text-align: right;\n",
              "    }\n",
              "</style>\n",
              "<table border=\"1\" class=\"dataframe\">\n",
              "  <thead>\n",
              "    <tr style=\"text-align: right;\">\n",
              "      <th></th>\n",
              "      <th>date</th>\n",
              "      <th>id</th>\n",
              "      <th>content</th>\n",
              "      <th>username</th>\n",
              "      <th>like_count</th>\n",
              "      <th>retweet_count</th>\n",
              "    </tr>\n",
              "  </thead>\n",
              "  <tbody>\n",
              "    <tr>\n",
              "      <th>1670</th>\n",
              "      <td>2023-01-05 07:48:58+00:00</td>\n",
              "      <td>1610906186353872898</td>\n",
              "      <td>Tarif Biskita Transpakuan Diusulkan Rp5.500, Pemkot Kaji Tiket Terusan https://t.co/WcU10NgIRO</td>\n",
              "      <td>radarbogorID</td>\n",
              "      <td>0</td>\n",
              "      <td>0</td>\n",
              "    </tr>\n",
              "    <tr>\n",
              "      <th>408</th>\n",
              "      <td>2023-01-05 07:48:58+00:00</td>\n",
              "      <td>1610906186353872898</td>\n",
              "      <td>Tarif Biskita Transpakuan Diusulkan Rp5.500, Pemkot Kaji Tiket Terusan https://t.co/WcU10NgIRO</td>\n",
              "      <td>radarbogorID</td>\n",
              "      <td>0</td>\n",
              "      <td>0</td>\n",
              "    </tr>\n",
              "  </tbody>\n",
              "</table>\n",
              "</div>\n",
              "      <button class=\"colab-df-convert\" onclick=\"convertToInteractive('df-7b1f2d9d-d97a-4924-8542-d6e026cad624')\"\n",
              "              title=\"Convert this dataframe to an interactive table.\"\n",
              "              style=\"display:none;\">\n",
              "        \n",
              "  <svg xmlns=\"http://www.w3.org/2000/svg\" height=\"24px\"viewBox=\"0 0 24 24\"\n",
              "       width=\"24px\">\n",
              "    <path d=\"M0 0h24v24H0V0z\" fill=\"none\"/>\n",
              "    <path d=\"M18.56 5.44l.94 2.06.94-2.06 2.06-.94-2.06-.94-.94-2.06-.94 2.06-2.06.94zm-11 1L8.5 8.5l.94-2.06 2.06-.94-2.06-.94L8.5 2.5l-.94 2.06-2.06.94zm10 10l.94 2.06.94-2.06 2.06-.94-2.06-.94-.94-2.06-.94 2.06-2.06.94z\"/><path d=\"M17.41 7.96l-1.37-1.37c-.4-.4-.92-.59-1.43-.59-.52 0-1.04.2-1.43.59L10.3 9.45l-7.72 7.72c-.78.78-.78 2.05 0 2.83L4 21.41c.39.39.9.59 1.41.59.51 0 1.02-.2 1.41-.59l7.78-7.78 2.81-2.81c.8-.78.8-2.07 0-2.86zM5.41 20L4 18.59l7.72-7.72 1.47 1.35L5.41 20z\"/>\n",
              "  </svg>\n",
              "      </button>\n",
              "      \n",
              "  <style>\n",
              "    .colab-df-container {\n",
              "      display:flex;\n",
              "      flex-wrap:wrap;\n",
              "      gap: 12px;\n",
              "    }\n",
              "\n",
              "    .colab-df-convert {\n",
              "      background-color: #E8F0FE;\n",
              "      border: none;\n",
              "      border-radius: 50%;\n",
              "      cursor: pointer;\n",
              "      display: none;\n",
              "      fill: #1967D2;\n",
              "      height: 32px;\n",
              "      padding: 0 0 0 0;\n",
              "      width: 32px;\n",
              "    }\n",
              "\n",
              "    .colab-df-convert:hover {\n",
              "      background-color: #E2EBFA;\n",
              "      box-shadow: 0px 1px 2px rgba(60, 64, 67, 0.3), 0px 1px 3px 1px rgba(60, 64, 67, 0.15);\n",
              "      fill: #174EA6;\n",
              "    }\n",
              "\n",
              "    [theme=dark] .colab-df-convert {\n",
              "      background-color: #3B4455;\n",
              "      fill: #D2E3FC;\n",
              "    }\n",
              "\n",
              "    [theme=dark] .colab-df-convert:hover {\n",
              "      background-color: #434B5C;\n",
              "      box-shadow: 0px 1px 3px 1px rgba(0, 0, 0, 0.15);\n",
              "      filter: drop-shadow(0px 1px 2px rgba(0, 0, 0, 0.3));\n",
              "      fill: #FFFFFF;\n",
              "    }\n",
              "  </style>\n",
              "\n",
              "      <script>\n",
              "        const buttonEl =\n",
              "          document.querySelector('#df-7b1f2d9d-d97a-4924-8542-d6e026cad624 button.colab-df-convert');\n",
              "        buttonEl.style.display =\n",
              "          google.colab.kernel.accessAllowed ? 'block' : 'none';\n",
              "\n",
              "        async function convertToInteractive(key) {\n",
              "          const element = document.querySelector('#df-7b1f2d9d-d97a-4924-8542-d6e026cad624');\n",
              "          const dataTable =\n",
              "            await google.colab.kernel.invokeFunction('convertToInteractive',\n",
              "                                                     [key], {});\n",
              "          if (!dataTable) return;\n",
              "\n",
              "          const docLinkHtml = 'Like what you see? Visit the ' +\n",
              "            '<a target=\"_blank\" href=https://colab.research.google.com/notebooks/data_table.ipynb>data table notebook</a>'\n",
              "            + ' to learn more about interactive tables.';\n",
              "          element.innerHTML = '';\n",
              "          dataTable['output_type'] = 'display_data';\n",
              "          await google.colab.output.renderOutput(dataTable, element);\n",
              "          const docLink = document.createElement('div');\n",
              "          docLink.innerHTML = docLinkHtml;\n",
              "          element.appendChild(docLink);\n",
              "        }\n",
              "      </script>\n",
              "    </div>\n",
              "  </div>\n",
              "  "
            ]
          },
          "metadata": {},
          "execution_count": 17
        }
      ]
    },
    {
      "cell_type": "markdown",
      "source": [
        "## Get the xlsx file"
      ],
      "metadata": {
        "id": "hc7lzua_uz3I"
      }
    },
    {
      "cell_type": "code",
      "source": [
        "# Convert datetime column to timezone-unaware\n",
        "df_drop['date'] = df_drop['date'].dt.tz_localize(None)\n",
        "\n",
        "df_drop.to_excel(\"bis_trans-2023.xlsx\", index=False)"
      ],
      "metadata": {
        "colab": {
          "base_uri": "https://localhost:8080/"
        },
        "id": "2weymwPpjLMW",
        "outputId": "9ff012eb-c193-453d-fd0a-482b4f2b36ab"
      },
      "execution_count": 12,
      "outputs": [
        {
          "output_type": "stream",
          "name": "stderr",
          "text": [
            "<ipython-input-12-27e826973ee7>:2: SettingWithCopyWarning: \n",
            "A value is trying to be set on a copy of a slice from a DataFrame.\n",
            "Try using .loc[row_indexer,col_indexer] = value instead\n",
            "\n",
            "See the caveats in the documentation: https://pandas.pydata.org/pandas-docs/stable/user_guide/indexing.html#returning-a-view-versus-a-copy\n",
            "  df_drop['date'] = df_drop['date'].dt.tz_localize(None)\n"
          ]
        }
      ]
    }
  ]
}