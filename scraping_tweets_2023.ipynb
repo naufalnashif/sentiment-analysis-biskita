{
  "nbformat": 4,
  "nbformat_minor": 0,
  "metadata": {
    "colab": {
      "provenance": [],
      "authorship_tag": "ABX9TyPfsl3LUAgn//ZeytkOUGUy",
      "include_colab_link": true
    },
    "kernelspec": {
      "name": "python3",
      "display_name": "Python 3"
    },
    "language_info": {
      "name": "python"
    }
  },
  "cells": [
    {
      "cell_type": "markdown",
      "metadata": {
        "id": "view-in-github",
        "colab_type": "text"
      },
      "source": [
        "<a href=\"https://colab.research.google.com/github/naufalnashif/sentiment-analysis-biskita/blob/main/scraping_tweets_2023.ipynb\" target=\"_parent\"><img src=\"https://colab.research.google.com/assets/colab-badge.svg\" alt=\"Open In Colab\"/></a>"
      ]
    },
    {
      "cell_type": "code",
      "execution_count": null,
      "metadata": {
        "id": "QXr1qrdKgJsa"
      },
      "outputs": [],
      "source": [
        "!pip install pandas\n",
        "!pip install git+https://github.com/JustAnotherArchivist/snscrape.git"
      ]
    },
    {
      "cell_type": "code",
      "source": [
        "import pandas as pd\n",
        "import snscrape.modules.twitter as sntwitter\n",
        "from tqdm.notebook import tqdm\n",
        "\n",
        "pd.describe_option('max_colwidth')"
      ],
      "metadata": {
        "id": "1BaORaF1hHFD",
        "colab": {
          "base_uri": "https://localhost:8080/"
        },
        "outputId": "11eddad2-2104-4f72-faa8-c34725d85142"
      },
      "execution_count": null,
      "outputs": [
        {
          "output_type": "stream",
          "name": "stdout",
          "text": [
            "display.max_colwidth : int or None\n",
            "    The maximum width in characters of a column in the repr of\n",
            "    a pandas data structure. When the column overflows, a \"...\"\n",
            "    placeholder is embedded in the output. A 'None' value means unlimited.\n",
            "    [default: 50] [currently: 50]\n"
          ]
        }
      ]
    },
    {
      "cell_type": "markdown",
      "source": [
        "## Get tweets using keyword 'biskita' and 'transpakuan'\n",
        "-  Since 26 Jun 2022 until 25 Jun 2023"
      ],
      "metadata": {
        "id": "oPcOXlnau9Al"
      }
    },
    {
      "cell_type": "code",
      "source": [
        "\n",
        "scrapper = sntwitter.TwitterSearchScraper(\"biskita until:2023-06-25 since:2022-06-26\")\n",
        "\n",
        "tweets = []\n",
        "n_tweets = 4_000\n",
        "for i,tweet in tqdm(enumerate(scrapper.get_items()), total=n_tweets):\n",
        "  data = [\n",
        "    tweet.date,\n",
        "    tweet.id,\n",
        "    tweet.rawContent,\n",
        "    tweet.user.username,\n",
        "    tweet.likeCount,\n",
        "    tweet.retweetCount,\n",
        "  ]\n",
        "  tweets.append(data)\n",
        "  if i > n_tweets :\n",
        "    break\n",
        "\n",
        "df_bis_2023 = pd.DataFrame(\n",
        "    tweets, columns=[\"date\", \"id\", \"content\", \"username\", \"like_count\", \"retweet_count\" ]\n",
        ")\n",
        "df_bis_2023.to_csv('Biskita_2023.csv')"
      ],
      "metadata": {
        "id": "PWY_16qWhDg1"
      },
      "execution_count": null,
      "outputs": []
    },
    {
      "cell_type": "code",
      "source": [
        "scrapper = sntwitter.TwitterSearchScraper(\"trans pakuan until:2023-06-25 since:2022-06-26\")\n",
        "\n",
        "tweets = []\n",
        "n_tweets = 4_000\n",
        "for i,tweet in tqdm(enumerate(scrapper.get_items()), total=n_tweets):\n",
        "  data = [\n",
        "    tweet.date,\n",
        "    tweet.id,\n",
        "    tweet.rawContent,\n",
        "    tweet.user.username,\n",
        "    tweet.likeCount,\n",
        "    tweet.retweetCount,\n",
        "  ]\n",
        "  tweets.append(data)\n",
        "  if i > n_tweets :\n",
        "    break\n",
        "\n",
        "df_trans_2023 = pd.DataFrame(\n",
        "    tweets, columns=[\"date\", \"id\", \"content\", \"username\", \"like_count\", \"retweet_count\" ]\n",
        ")\n",
        "df_trans_2023.to_csv('Transpakuan_2023.csv')"
      ],
      "metadata": {
        "id": "cjl2zLJ_q8oU"
      },
      "execution_count": null,
      "outputs": []
    },
    {
      "cell_type": "markdown",
      "source": [
        "## Append the data"
      ],
      "metadata": {
        "id": "BRaiW54ovfpN"
      }
    },
    {
      "cell_type": "code",
      "source": [
        "df = df_bis_2023.append(df_trans_2023)"
      ],
      "metadata": {
        "colab": {
          "base_uri": "https://localhost:8080/"
        },
        "id": "W1C26LiArQpS",
        "outputId": "d4d789a6-3e73-4725-a6ff-09b2c987b6dc"
      },
      "execution_count": null,
      "outputs": [
        {
          "output_type": "stream",
          "name": "stderr",
          "text": [
            "<ipython-input-8-dc12600eff31>:1: FutureWarning: The frame.append method is deprecated and will be removed from pandas in a future version. Use pandas.concat instead.\n",
            "  df = df_bis_2023.append(df_trans_2023)\n"
          ]
        }
      ]
    },
    {
      "cell_type": "code",
      "source": [
        "print(df.shape)\n",
        "print(df_bis_2023.shape)\n",
        "print(df_trans_2023.shape)"
      ],
      "metadata": {
        "colab": {
          "base_uri": "https://localhost:8080/"
        },
        "id": "bo7NT9eBhlV-",
        "outputId": "9caa335c-0ba3-45b1-f0b9-6fe8862d17a5"
      },
      "execution_count": null,
      "outputs": [
        {
          "output_type": "stream",
          "name": "stdout",
          "text": [
            "(4306, 6)\n",
            "(3500, 6)\n",
            "(806, 6)\n"
          ]
        }
      ]
    },
    {
      "cell_type": "code",
      "source": [
        "pd.set_option('display.max_colwidth', None)"
      ],
      "metadata": {
        "id": "p7g6Rtr_sJc1"
      },
      "execution_count": null,
      "outputs": []
    },
    {
      "cell_type": "code",
      "source": [
        "df.head()"
      ],
      "metadata": {
        "colab": {
          "base_uri": "https://localhost:8080/",
          "height": 425
        },
        "id": "RkKgCMqYiDm5",
        "outputId": "b1a25427-a3f1-40c0-a499-c35480315d80"
      },
      "execution_count": null,
      "outputs": [
        {
          "output_type": "execute_result",
          "data": {
            "text/plain": [
              "                       date                   id  \\\n",
              "0 2023-06-24 23:02:44+00:00  1672742080010133505   \n",
              "1 2023-06-24 22:45:38+00:00  1672737774288654337   \n",
              "2 2023-06-24 14:59:42+00:00  1672620519907262466   \n",
              "3 2023-06-24 14:39:07+00:00  1672615338356379649   \n",
              "4 2023-06-24 13:24:14+00:00  1672596495693139975   \n",
              "\n",
              "                                                                                                                                                            content  \\\n",
              "0                                                         @junehokiw @bogorfess_ kurangg tau kalo itu, cuman barusan gua abis dari luar udaa ada biskita dijalanan.   \n",
              "1                                                                                                                    [bgr] biskita jam segini udah ada belum guys??   \n",
              "2  angkot berguna soalnya yakali lu dr bogor ampe cangkrang mau JALAN KAKI mikir dah mnurut gw mah mau pake biskita emg biskita muat lewat nagrak💀💀💀💀 ngakak anyinh   \n",
              "3                                                                                                                  [bgr] bayar biskita bisa pake kartu apa aja ya??   \n",
              "4                                                                                            @bogorfess_ Caranya gimana min?? Aku mau nanya seputat biskita nihh :'   \n",
              "\n",
              "     username  like_count  retweet_count  \n",
              "0   mengsanss           0              0  \n",
              "1  bogorfess_           1              1  \n",
              "2  ayangwendy           0              0  \n",
              "3  bogorfess_           1              0  \n",
              "4    hottaekk           0              0  "
            ],
            "text/html": [
              "\n",
              "  <div id=\"df-f200ffb5-a849-4827-bd35-607fa3b5165f\">\n",
              "    <div class=\"colab-df-container\">\n",
              "      <div>\n",
              "<style scoped>\n",
              "    .dataframe tbody tr th:only-of-type {\n",
              "        vertical-align: middle;\n",
              "    }\n",
              "\n",
              "    .dataframe tbody tr th {\n",
              "        vertical-align: top;\n",
              "    }\n",
              "\n",
              "    .dataframe thead th {\n",
              "        text-align: right;\n",
              "    }\n",
              "</style>\n",
              "<table border=\"1\" class=\"dataframe\">\n",
              "  <thead>\n",
              "    <tr style=\"text-align: right;\">\n",
              "      <th></th>\n",
              "      <th>date</th>\n",
              "      <th>id</th>\n",
              "      <th>content</th>\n",
              "      <th>username</th>\n",
              "      <th>like_count</th>\n",
              "      <th>retweet_count</th>\n",
              "    </tr>\n",
              "  </thead>\n",
              "  <tbody>\n",
              "    <tr>\n",
              "      <th>0</th>\n",
              "      <td>2023-06-24 23:02:44+00:00</td>\n",
              "      <td>1672742080010133505</td>\n",
              "      <td>@junehokiw @bogorfess_ kurangg tau kalo itu, cuman barusan gua abis dari luar udaa ada biskita dijalanan.</td>\n",
              "      <td>mengsanss</td>\n",
              "      <td>0</td>\n",
              "      <td>0</td>\n",
              "    </tr>\n",
              "    <tr>\n",
              "      <th>1</th>\n",
              "      <td>2023-06-24 22:45:38+00:00</td>\n",
              "      <td>1672737774288654337</td>\n",
              "      <td>[bgr] biskita jam segini udah ada belum guys??</td>\n",
              "      <td>bogorfess_</td>\n",
              "      <td>1</td>\n",
              "      <td>1</td>\n",
              "    </tr>\n",
              "    <tr>\n",
              "      <th>2</th>\n",
              "      <td>2023-06-24 14:59:42+00:00</td>\n",
              "      <td>1672620519907262466</td>\n",
              "      <td>angkot berguna soalnya yakali lu dr bogor ampe cangkrang mau JALAN KAKI mikir dah mnurut gw mah mau pake biskita emg biskita muat lewat nagrak💀💀💀💀 ngakak anyinh</td>\n",
              "      <td>ayangwendy</td>\n",
              "      <td>0</td>\n",
              "      <td>0</td>\n",
              "    </tr>\n",
              "    <tr>\n",
              "      <th>3</th>\n",
              "      <td>2023-06-24 14:39:07+00:00</td>\n",
              "      <td>1672615338356379649</td>\n",
              "      <td>[bgr] bayar biskita bisa pake kartu apa aja ya??</td>\n",
              "      <td>bogorfess_</td>\n",
              "      <td>1</td>\n",
              "      <td>0</td>\n",
              "    </tr>\n",
              "    <tr>\n",
              "      <th>4</th>\n",
              "      <td>2023-06-24 13:24:14+00:00</td>\n",
              "      <td>1672596495693139975</td>\n",
              "      <td>@bogorfess_ Caranya gimana min?? Aku mau nanya seputat biskita nihh :'</td>\n",
              "      <td>hottaekk</td>\n",
              "      <td>0</td>\n",
              "      <td>0</td>\n",
              "    </tr>\n",
              "  </tbody>\n",
              "</table>\n",
              "</div>\n",
              "      <button class=\"colab-df-convert\" onclick=\"convertToInteractive('df-f200ffb5-a849-4827-bd35-607fa3b5165f')\"\n",
              "              title=\"Convert this dataframe to an interactive table.\"\n",
              "              style=\"display:none;\">\n",
              "        \n",
              "  <svg xmlns=\"http://www.w3.org/2000/svg\" height=\"24px\"viewBox=\"0 0 24 24\"\n",
              "       width=\"24px\">\n",
              "    <path d=\"M0 0h24v24H0V0z\" fill=\"none\"/>\n",
              "    <path d=\"M18.56 5.44l.94 2.06.94-2.06 2.06-.94-2.06-.94-.94-2.06-.94 2.06-2.06.94zm-11 1L8.5 8.5l.94-2.06 2.06-.94-2.06-.94L8.5 2.5l-.94 2.06-2.06.94zm10 10l.94 2.06.94-2.06 2.06-.94-2.06-.94-.94-2.06-.94 2.06-2.06.94z\"/><path d=\"M17.41 7.96l-1.37-1.37c-.4-.4-.92-.59-1.43-.59-.52 0-1.04.2-1.43.59L10.3 9.45l-7.72 7.72c-.78.78-.78 2.05 0 2.83L4 21.41c.39.39.9.59 1.41.59.51 0 1.02-.2 1.41-.59l7.78-7.78 2.81-2.81c.8-.78.8-2.07 0-2.86zM5.41 20L4 18.59l7.72-7.72 1.47 1.35L5.41 20z\"/>\n",
              "  </svg>\n",
              "      </button>\n",
              "      \n",
              "  <style>\n",
              "    .colab-df-container {\n",
              "      display:flex;\n",
              "      flex-wrap:wrap;\n",
              "      gap: 12px;\n",
              "    }\n",
              "\n",
              "    .colab-df-convert {\n",
              "      background-color: #E8F0FE;\n",
              "      border: none;\n",
              "      border-radius: 50%;\n",
              "      cursor: pointer;\n",
              "      display: none;\n",
              "      fill: #1967D2;\n",
              "      height: 32px;\n",
              "      padding: 0 0 0 0;\n",
              "      width: 32px;\n",
              "    }\n",
              "\n",
              "    .colab-df-convert:hover {\n",
              "      background-color: #E2EBFA;\n",
              "      box-shadow: 0px 1px 2px rgba(60, 64, 67, 0.3), 0px 1px 3px 1px rgba(60, 64, 67, 0.15);\n",
              "      fill: #174EA6;\n",
              "    }\n",
              "\n",
              "    [theme=dark] .colab-df-convert {\n",
              "      background-color: #3B4455;\n",
              "      fill: #D2E3FC;\n",
              "    }\n",
              "\n",
              "    [theme=dark] .colab-df-convert:hover {\n",
              "      background-color: #434B5C;\n",
              "      box-shadow: 0px 1px 3px 1px rgba(0, 0, 0, 0.15);\n",
              "      filter: drop-shadow(0px 1px 2px rgba(0, 0, 0, 0.3));\n",
              "      fill: #FFFFFF;\n",
              "    }\n",
              "  </style>\n",
              "\n",
              "      <script>\n",
              "        const buttonEl =\n",
              "          document.querySelector('#df-f200ffb5-a849-4827-bd35-607fa3b5165f button.colab-df-convert');\n",
              "        buttonEl.style.display =\n",
              "          google.colab.kernel.accessAllowed ? 'block' : 'none';\n",
              "\n",
              "        async function convertToInteractive(key) {\n",
              "          const element = document.querySelector('#df-f200ffb5-a849-4827-bd35-607fa3b5165f');\n",
              "          const dataTable =\n",
              "            await google.colab.kernel.invokeFunction('convertToInteractive',\n",
              "                                                     [key], {});\n",
              "          if (!dataTable) return;\n",
              "\n",
              "          const docLinkHtml = 'Like what you see? Visit the ' +\n",
              "            '<a target=\"_blank\" href=https://colab.research.google.com/notebooks/data_table.ipynb>data table notebook</a>'\n",
              "            + ' to learn more about interactive tables.';\n",
              "          element.innerHTML = '';\n",
              "          dataTable['output_type'] = 'display_data';\n",
              "          await google.colab.output.renderOutput(dataTable, element);\n",
              "          const docLink = document.createElement('div');\n",
              "          docLink.innerHTML = docLinkHtml;\n",
              "          element.appendChild(docLink);\n",
              "        }\n",
              "      </script>\n",
              "    </div>\n",
              "  </div>\n",
              "  "
            ]
          },
          "metadata": {},
          "execution_count": 11
        }
      ]
    },
    {
      "cell_type": "code",
      "source": [
        "df['username'].value_counts().head(20).plot(kind = 'bar', title = 'Counts of Tweet', figsize = (10,5))"
      ],
      "metadata": {
        "colab": {
          "base_uri": "https://localhost:8080/",
          "height": 581
        },
        "id": "qciv8BjjsfX7",
        "outputId": "ebbaf3eb-c5db-4f23-d82e-636054bd315c"
      },
      "execution_count": null,
      "outputs": [
        {
          "output_type": "execute_result",
          "data": {
            "text/plain": [
              "<Axes: title={'center': 'Counts of Tweet'}>"
            ]
          },
          "metadata": {},
          "execution_count": 12
        },
        {
          "output_type": "display_data",
          "data": {
            "text/plain": [
              "<Figure size 1000x500 with 1 Axes>"
            ],
            "image/png": "[encoded data removed]"
          },
          "metadata": {}
        }
      ]
    },
    {
      "cell_type": "markdown",
      "source": [
        "## Remove Duplicate Tweets based on 'Content'"
      ],
      "metadata": {
        "id": "NNkRy00-upuV"
      }
    },
    {
      "cell_type": "code",
      "source": [
        "df_drop = df.drop_duplicates(subset = ['content'])"
      ],
      "metadata": {
        "id": "szfjmbCEswa6"
      },
      "execution_count": null,
      "outputs": []
    },
    {
      "cell_type": "code",
      "source": [
        "print('Sebelum drop duplicates : {} tweets'.format(len(df)))\n",
        "print('Sesudah drop duplicates : {} tweets'.format(len(df_drop)))\n",
        "print('Total tweet terhapus : {} tweets'.format(len(df) - len(df_drop)))"
      ],
      "metadata": {
        "colab": {
          "base_uri": "https://localhost:8080/"
        },
        "id": "6dHtSah9s7Jz",
        "outputId": "afac6a5d-9f75-4ccc-90bd-656ad71e2dca"
      },
      "execution_count": null,
      "outputs": [
        {
          "output_type": "stream",
          "name": "stdout",
          "text": [
            "Sebelum drop duplicates : 4306 tweets\n",
            "Sesudah drop duplicates : 4094 tweets\n",
            "Total tweet terhapus : 212 tweets\n"
          ]
        }
      ]
    },
    {
      "cell_type": "code",
      "source": [
        "df['username'].value_counts().head(20).plot(kind = 'bar', title = 'Counts of Tweet', figsize = (10,5), color = 'r')\n",
        "df_drop['username'].value_counts().head(20).plot(kind = 'bar', title = 'Counts of Tweet', figsize = (10,5), bottom = True, color = 'g')"
      ],
      "metadata": {
        "colab": {
          "base_uri": "https://localhost:8080/",
          "height": 581
        },
        "id": "CMxh1pwbymRB",
        "outputId": "57b91270-0abf-48fd-c832-66038ca20a05"
      },
      "execution_count": null,
      "outputs": [
        {
          "output_type": "execute_result",
          "data": {
            "text/plain": [
              "<Axes: title={'center': 'Counts of Tweet'}>"
            ]
          },
          "metadata": {},
          "execution_count": 15
        },
        {
          "output_type": "display_data",
          "data": {
            "text/plain": [
              "<Figure size 1000x500 with 1 Axes>"
            ],
            "image/png": "[encoded data removed]"
          },
          "metadata": {}
        }
      ]
    },
    {
      "cell_type": "code",
      "source": [
        "df_dupl = df[df.duplicated(subset = ['content'])]\n",
        "df_dupl"
      ],
      "metadata": {
        "colab": {
          "base_uri": "https://localhost:8080/",
          "height": 987
        },
        "id": "RMkFekTCyrzF",
        "outputId": "f8a931b6-44e5-4232-dc80-8a62e6bd3bdb"
      },
      "execution_count": null,
      "outputs": [
        {
          "output_type": "execute_result",
          "data": {
            "text/plain": [
              "                          date                   id  \\\n",
              "10   2023-06-23 15:15:39+00:00  1672262147097919489   \n",
              "866  2023-04-10 05:49:41+00:00  1645303012242640897   \n",
              "893  2023-04-05 15:39:24+00:00  1643639483219230722   \n",
              "982  2023-04-01 04:06:19+00:00  1642015510362738690   \n",
              "1387 2023-02-07 08:10:01+00:00  1622870280950673411   \n",
              "...                        ...                  ...   \n",
              "769  2022-07-15 23:41:07+00:00  1548090312605675524   \n",
              "796  2022-06-30 07:18:29+00:00  1542407206511218689   \n",
              "797  2022-06-30 04:04:11+00:00  1542358312276348929   \n",
              "799  2022-06-29 11:35:30+00:00  1542109501448667136   \n",
              "802  2022-06-28 14:25:40+00:00  1541789935866630144   \n",
              "\n",
              "                                                                                                                                                                                                                                                                                        content  \\\n",
              "10    halo kakak2 yg domisili kota bogor atau kerja di kota bogor, boleh minta waktunya sebentar untuk bantu isi kuesioner penelitian aku? terimakasih sebelumnya🫶✨\\n\\nlink kuesioner :\\n\\nhttps://t.co/xGRsyPoRTj\\n\\n#kuesioner #transportasi #transportasiumum #kotabogor #bogorkota #biskita   \n",
              "866                                                                                                                                                                                                                     [bgr] mau nanya dong, biskita masih gratis atau udah mulai berbayar ya?   \n",
              "893                                                                                                                                                                                                                     [bgr] mau nanya dong, biskita masih gratis atau udah mulai berbayar ya?   \n",
              "982                                                                                                                                              @bogorfess_ sorry oot, ada yg tau cara naik biskita dari halte smkn3 ke stasiun bogor? aplikasi biskita dari tadi buffering terus, thanks guys   \n",
              "1387                                                                                                                                                                                                                                                         [bgr] biskita masih gratis kan ya?   \n",
              "...                                                                                                                                                                                                                                                                                         ...   \n",
              "769                                                                                                                                           Layanan Biskita Trans Pakuan yang melayani empat koridor saat ini masih bisa dimanfaatkan masyarakat Bogor secara gratis. https://t.co/Xd973mkd7T   \n",
              "796                                                                                                                                              sama kaya biskita transpakuan ya ini, mantap bgt emang sampe skrg aja masi gratis. jadi gue kalo mau ke mall di bogor ongkosnya ga gede shayy💓   \n",
              "797                                                                                                                                                                                                             @PemkotaBogor mo tanya untuk naik transpakuan/biskita bayar bisa pakai e-money?   \n",
              "799                                                                                                                 Gokil, nunggu biskita transpakuan dateng sampe 30 menit lebih belum ada juga. 👍\\nAplikasinya juga gak on time waktunya. Masih banyak yang perlu dibenahi, Pak @BimaAryaS. 🙏   \n",
              "802                                                                                                                                                                                                                                                        Coba biskita Transpakuan gini juga 😠   \n",
              "\n",
              "            username  like_count  retweet_count  \n",
              "10          agapatri           0              0  \n",
              "866       bogorfess_           1              0  \n",
              "893       bogorfess_           0              0  \n",
              "982         paboppaa           0              0  \n",
              "1387      bogorfess_           2              0  \n",
              "...              ...         ...            ...  \n",
              "769        kompascom           3              0  \n",
              "796   dimplestyongie           0              0  \n",
              "797          luki_lm           0              0  \n",
              "799          ddeearx           0              0  \n",
              "802        ghostypus           0              0  \n",
              "\n",
              "[212 rows x 6 columns]"
            ],
            "text/html": [
              "\n",
              "  <div id=\"df-f026555e-fe69-4565-a6df-1e2f94cf8019\">\n",
              "    <div class=\"colab-df-container\">\n",
              "      <div>\n",
              "<style scoped>\n",
              "    .dataframe tbody tr th:only-of-type {\n",
              "        vertical-align: middle;\n",
              "    }\n",
              "\n",
              "    .dataframe tbody tr th {\n",
              "        vertical-align: top;\n",
              "    }\n",
              "\n",
              "    .dataframe thead th {\n",
              "        text-align: right;\n",
              "    }\n",
              "</style>\n",
              "<table border=\"1\" class=\"dataframe\">\n",
              "  <thead>\n",
              "    <tr style=\"text-align: right;\">\n",
              "      <th></th>\n",
              "      <th>date</th>\n",
              "      <th>id</th>\n",
              "      <th>content</th>\n",
              "      <th>username</th>\n",
              "      <th>like_count</th>\n",
              "      <th>retweet_count</th>\n",
              "    </tr>\n",
              "  </thead>\n",
              "  <tbody>\n",
              "    <tr>\n",
              "      <th>10</th>\n",
              "      <td>2023-06-23 15:15:39+00:00</td>\n",
              "      <td>1672262147097919489</td>\n",
              "      <td>halo kakak2 yg domisili kota bogor atau kerja di kota bogor, boleh minta waktunya sebentar untuk bantu isi kuesioner penelitian aku? terimakasih sebelumnya🫶✨\\n\\nlink kuesioner :\\n\\nhttps://t.co/xGRsyPoRTj\\n\\n#kuesioner #transportasi #transportasiumum #kotabogor #bogorkota #biskita</td>\n",
              "      <td>agapatri</td>\n",
              "      <td>0</td>\n",
              "      <td>0</td>\n",
              "    </tr>\n",
              "    <tr>\n",
              "      <th>866</th>\n",
              "      <td>2023-04-10 05:49:41+00:00</td>\n",
              "      <td>1645303012242640897</td>\n",
              "      <td>[bgr] mau nanya dong, biskita masih gratis atau udah mulai berbayar ya?</td>\n",
              "      <td>bogorfess_</td>\n",
              "      <td>1</td>\n",
              "      <td>0</td>\n",
              "    </tr>\n",
              "    <tr>\n",
              "      <th>893</th>\n",
              "      <td>2023-04-05 15:39:24+00:00</td>\n",
              "      <td>1643639483219230722</td>\n",
              "      <td>[bgr] mau nanya dong, biskita masih gratis atau udah mulai berbayar ya?</td>\n",
              "      <td>bogorfess_</td>\n",
              "      <td>0</td>\n",
              "      <td>0</td>\n",
              "    </tr>\n",
              "    <tr>\n",
              "      <th>982</th>\n",
              "      <td>2023-04-01 04:06:19+00:00</td>\n",
              "      <td>1642015510362738690</td>\n",
              "      <td>@bogorfess_ sorry oot, ada yg tau cara naik biskita dari halte smkn3 ke stasiun bogor? aplikasi biskita dari tadi buffering terus, thanks guys</td>\n",
              "      <td>paboppaa</td>\n",
              "      <td>0</td>\n",
              "      <td>0</td>\n",
              "    </tr>\n",
              "    <tr>\n",
              "      <th>1387</th>\n",
              "      <td>2023-02-07 08:10:01+00:00</td>\n",
              "      <td>1622870280950673411</td>\n",
              "      <td>[bgr] biskita masih gratis kan ya?</td>\n",
              "      <td>bogorfess_</td>\n",
              "      <td>2</td>\n",
              "      <td>0</td>\n",
              "    </tr>\n",
              "    <tr>\n",
              "      <th>...</th>\n",
              "      <td>...</td>\n",
              "      <td>...</td>\n",
              "      <td>...</td>\n",
              "      <td>...</td>\n",
              "      <td>...</td>\n",
              "      <td>...</td>\n",
              "    </tr>\n",
              "    <tr>\n",
              "      <th>769</th>\n",
              "      <td>2022-07-15 23:41:07+00:00</td>\n",
              "      <td>1548090312605675524</td>\n",
              "      <td>Layanan Biskita Trans Pakuan yang melayani empat koridor saat ini masih bisa dimanfaatkan masyarakat Bogor secara gratis. https://t.co/Xd973mkd7T</td>\n",
              "      <td>kompascom</td>\n",
              "      <td>3</td>\n",
              "      <td>0</td>\n",
              "    </tr>\n",
              "    <tr>\n",
              "      <th>796</th>\n",
              "      <td>2022-06-30 07:18:29+00:00</td>\n",
              "      <td>1542407206511218689</td>\n",
              "      <td>sama kaya biskita transpakuan ya ini, mantap bgt emang sampe skrg aja masi gratis. jadi gue kalo mau ke mall di bogor ongkosnya ga gede shayy💓</td>\n",
              "      <td>dimplestyongie</td>\n",
              "      <td>0</td>\n",
              "      <td>0</td>\n",
              "    </tr>\n",
              "    <tr>\n",
              "      <th>797</th>\n",
              "      <td>2022-06-30 04:04:11+00:00</td>\n",
              "      <td>1542358312276348929</td>\n",
              "      <td>@PemkotaBogor mo tanya untuk naik transpakuan/biskita bayar bisa pakai e-money?</td>\n",
              "      <td>luki_lm</td>\n",
              "      <td>0</td>\n",
              "      <td>0</td>\n",
              "    </tr>\n",
              "    <tr>\n",
              "      <th>799</th>\n",
              "      <td>2022-06-29 11:35:30+00:00</td>\n",
              "      <td>1542109501448667136</td>\n",
              "      <td>Gokil, nunggu biskita transpakuan dateng sampe 30 menit lebih belum ada juga. 👍\\nAplikasinya juga gak on time waktunya. Masih banyak yang perlu dibenahi, Pak @BimaAryaS. 🙏</td>\n",
              "      <td>ddeearx</td>\n",
              "      <td>0</td>\n",
              "      <td>0</td>\n",
              "    </tr>\n",
              "    <tr>\n",
              "      <th>802</th>\n",
              "      <td>2022-06-28 14:25:40+00:00</td>\n",
              "      <td>1541789935866630144</td>\n",
              "      <td>Coba biskita Transpakuan gini juga 😠</td>\n",
              "      <td>ghostypus</td>\n",
              "      <td>0</td>\n",
              "      <td>0</td>\n",
              "    </tr>\n",
              "  </tbody>\n",
              "</table>\n",
              "<p>212 rows × 6 columns</p>\n",
              "</div>\n",
              "      <button class=\"colab-df-convert\" onclick=\"convertToInteractive('df-f026555e-fe69-4565-a6df-1e2f94cf8019')\"\n",
              "              title=\"Convert this dataframe to an interactive table.\"\n",
              "              style=\"display:none;\">\n",
              "        \n",
              "  <svg xmlns=\"http://www.w3.org/2000/svg\" height=\"24px\"viewBox=\"0 0 24 24\"\n",
              "       width=\"24px\">\n",
              "    <path d=\"M0 0h24v24H0V0z\" fill=\"none\"/>\n",
              "    <path d=\"M18.56 5.44l.94 2.06.94-2.06 2.06-.94-2.06-.94-.94-2.06-.94 2.06-2.06.94zm-11 1L8.5 8.5l.94-2.06 2.06-.94-2.06-.94L8.5 2.5l-.94 2.06-2.06.94zm10 10l.94 2.06.94-2.06 2.06-.94-2.06-.94-.94-2.06-.94 2.06-2.06.94z\"/><path d=\"M17.41 7.96l-1.37-1.37c-.4-.4-.92-.59-1.43-.59-.52 0-1.04.2-1.43.59L10.3 9.45l-7.72 7.72c-.78.78-.78 2.05 0 2.83L4 21.41c.39.39.9.59 1.41.59.51 0 1.02-.2 1.41-.59l7.78-7.78 2.81-2.81c.8-.78.8-2.07 0-2.86zM5.41 20L4 18.59l7.72-7.72 1.47 1.35L5.41 20z\"/>\n",
              "  </svg>\n",
              "      </button>\n",
              "      \n",
              "  <style>\n",
              "    .colab-df-container {\n",
              "      display:flex;\n",
              "      flex-wrap:wrap;\n",
              "      gap: 12px;\n",
              "    }\n",
              "\n",
              "    .colab-df-convert {\n",
              "      background-color: #E8F0FE;\n",
              "      border: none;\n",
              "      border-radius: 50%;\n",
              "      cursor: pointer;\n",
              "      display: none;\n",
              "      fill: #1967D2;\n",
              "      height: 32px;\n",
              "      padding: 0 0 0 0;\n",
              "      width: 32px;\n",
              "    }\n",
              "\n",
              "    .colab-df-convert:hover {\n",
              "      background-color: #E2EBFA;\n",
              "      box-shadow: 0px 1px 2px rgba(60, 64, 67, 0.3), 0px 1px 3px 1px rgba(60, 64, 67, 0.15);\n",
              "      fill: #174EA6;\n",
              "    }\n",
              "\n",
              "    [theme=dark] .colab-df-convert {\n",
              "      background-color: #3B4455;\n",
              "      fill: #D2E3FC;\n",
              "    }\n",
              "\n",
              "    [theme=dark] .colab-df-convert:hover {\n",
              "      background-color: #434B5C;\n",
              "      box-shadow: 0px 1px 3px 1px rgba(0, 0, 0, 0.15);\n",
              "      filter: drop-shadow(0px 1px 2px rgba(0, 0, 0, 0.3));\n",
              "      fill: #FFFFFF;\n",
              "    }\n",
              "  </style>\n",
              "\n",
              "      <script>\n",
              "        const buttonEl =\n",
              "          document.querySelector('#df-f026555e-fe69-4565-a6df-1e2f94cf8019 button.colab-df-convert');\n",
              "        buttonEl.style.display =\n",
              "          google.colab.kernel.accessAllowed ? 'block' : 'none';\n",
              "\n",
              "        async function convertToInteractive(key) {\n",
              "          const element = document.querySelector('#df-f026555e-fe69-4565-a6df-1e2f94cf8019');\n",
              "          const dataTable =\n",
              "            await google.colab.kernel.invokeFunction('convertToInteractive',\n",
              "                                                     [key], {});\n",
              "          if (!dataTable) return;\n",
              "\n",
              "          const docLinkHtml = 'Like what you see? Visit the ' +\n",
              "            '<a target=\"_blank\" href=https://colab.research.google.com/notebooks/data_table.ipynb>data table notebook</a>'\n",
              "            + ' to learn more about interactive tables.';\n",
              "          element.innerHTML = '';\n",
              "          dataTable['output_type'] = 'display_data';\n",
              "          await google.colab.output.renderOutput(dataTable, element);\n",
              "          const docLink = document.createElement('div');\n",
              "          docLink.innerHTML = docLinkHtml;\n",
              "          element.appendChild(docLink);\n",
              "        }\n",
              "      </script>\n",
              "    </div>\n",
              "  </div>\n",
              "  "
            ]
          },
          "metadata": {},
          "execution_count": 16
        }
      ]
    },
    {
      "cell_type": "code",
      "source": [
        "df[df['content'] == 'Pemkot Bogor Kaji Tiket Terusan, Biskita Transpakuan Masih Gratis | https://t.co/jrem9yGM7s']"
      ],
      "metadata": {
        "colab": {
          "base_uri": "https://localhost:8080/",
          "height": 234
        },
        "id": "3oARRyxTy5M9",
        "outputId": "cf3d1493-3244-4e68-cbe5-c6015b32eed0"
      },
      "execution_count": null,
      "outputs": [
        {
          "output_type": "execute_result",
          "data": {
            "text/plain": [
              "                          date                   id  \\\n",
              "1665 2023-01-05 11:17:48+00:00  1610958739447619585   \n",
              "403  2023-01-05 11:17:48+00:00  1610958739447619585   \n",
              "\n",
              "                                                                                          content  \\\n",
              "1665  Pemkot Bogor Kaji Tiket Terusan, Biskita Transpakuan Masih Gratis | https://t.co/jrem9yGM7s   \n",
              "403   Pemkot Bogor Kaji Tiket Terusan, Biskita Transpakuan Masih Gratis | https://t.co/jrem9yGM7s   \n",
              "\n",
              "            username  like_count  retweet_count  \n",
              "1665  inilahkorancom           0              0  \n",
              "403   inilahkorancom           0              0  "
            ],
            "text/html": [
              "\n",
              "  <div id=\"df-307cd871-91a3-4cdc-b2df-b83446e1b072\">\n",
              "    <div class=\"colab-df-container\">\n",
              "      <div>\n",
              "<style scoped>\n",
              "    .dataframe tbody tr th:only-of-type {\n",
              "        vertical-align: middle;\n",
              "    }\n",
              "\n",
              "    .dataframe tbody tr th {\n",
              "        vertical-align: top;\n",
              "    }\n",
              "\n",
              "    .dataframe thead th {\n",
              "        text-align: right;\n",
              "    }\n",
              "</style>\n",
              "<table border=\"1\" class=\"dataframe\">\n",
              "  <thead>\n",
              "    <tr style=\"text-align: right;\">\n",
              "      <th></th>\n",
              "      <th>date</th>\n",
              "      <th>id</th>\n",
              "      <th>content</th>\n",
              "      <th>username</th>\n",
              "      <th>like_count</th>\n",
              "      <th>retweet_count</th>\n",
              "    </tr>\n",
              "  </thead>\n",
              "  <tbody>\n",
              "    <tr>\n",
              "      <th>1665</th>\n",
              "      <td>2023-01-05 11:17:48+00:00</td>\n",
              "      <td>1610958739447619585</td>\n",
              "      <td>Pemkot Bogor Kaji Tiket Terusan, Biskita Transpakuan Masih Gratis | https://t.co/jrem9yGM7s</td>\n",
              "      <td>inilahkorancom</td>\n",
              "      <td>0</td>\n",
              "      <td>0</td>\n",
              "    </tr>\n",
              "    <tr>\n",
              "      <th>403</th>\n",
              "      <td>2023-01-05 11:17:48+00:00</td>\n",
              "      <td>1610958739447619585</td>\n",
              "      <td>Pemkot Bogor Kaji Tiket Terusan, Biskita Transpakuan Masih Gratis | https://t.co/jrem9yGM7s</td>\n",
              "      <td>inilahkorancom</td>\n",
              "      <td>0</td>\n",
              "      <td>0</td>\n",
              "    </tr>\n",
              "  </tbody>\n",
              "</table>\n",
              "</div>\n",
              "      <button class=\"colab-df-convert\" onclick=\"convertToInteractive('df-307cd871-91a3-4cdc-b2df-b83446e1b072')\"\n",
              "              title=\"Convert this dataframe to an interactive table.\"\n",
              "              style=\"display:none;\">\n",
              "        \n",
              "  <svg xmlns=\"http://www.w3.org/2000/svg\" height=\"24px\"viewBox=\"0 0 24 24\"\n",
              "       width=\"24px\">\n",
              "    <path d=\"M0 0h24v24H0V0z\" fill=\"none\"/>\n",
              "    <path d=\"M18.56 5.44l.94 2.06.94-2.06 2.06-.94-2.06-.94-.94-2.06-.94 2.06-2.06.94zm-11 1L8.5 8.5l.94-2.06 2.06-.94-2.06-.94L8.5 2.5l-.94 2.06-2.06.94zm10 10l.94 2.06.94-2.06 2.06-.94-2.06-.94-.94-2.06-.94 2.06-2.06.94z\"/><path d=\"M17.41 7.96l-1.37-1.37c-.4-.4-.92-.59-1.43-.59-.52 0-1.04.2-1.43.59L10.3 9.45l-7.72 7.72c-.78.78-.78 2.05 0 2.83L4 21.41c.39.39.9.59 1.41.59.51 0 1.02-.2 1.41-.59l7.78-7.78 2.81-2.81c.8-.78.8-2.07 0-2.86zM5.41 20L4 18.59l7.72-7.72 1.47 1.35L5.41 20z\"/>\n",
              "  </svg>\n",
              "      </button>\n",
              "      \n",
              "  <style>\n",
              "    .colab-df-container {\n",
              "      display:flex;\n",
              "      flex-wrap:wrap;\n",
              "      gap: 12px;\n",
              "    }\n",
              "\n",
              "    .colab-df-convert {\n",
              "      background-color: #E8F0FE;\n",
              "      border: none;\n",
              "      border-radius: 50%;\n",
              "      cursor: pointer;\n",
              "      display: none;\n",
              "      fill: #1967D2;\n",
              "      height: 32px;\n",
              "      padding: 0 0 0 0;\n",
              "      width: 32px;\n",
              "    }\n",
              "\n",
              "    .colab-df-convert:hover {\n",
              "      background-color: #E2EBFA;\n",
              "      box-shadow: 0px 1px 2px rgba(60, 64, 67, 0.3), 0px 1px 3px 1px rgba(60, 64, 67, 0.15);\n",
              "      fill: #174EA6;\n",
              "    }\n",
              "\n",
              "    [theme=dark] .colab-df-convert {\n",
              "      background-color: #3B4455;\n",
              "      fill: #D2E3FC;\n",
              "    }\n",
              "\n",
              "    [theme=dark] .colab-df-convert:hover {\n",
              "      background-color: #434B5C;\n",
              "      box-shadow: 0px 1px 3px 1px rgba(0, 0, 0, 0.15);\n",
              "      filter: drop-shadow(0px 1px 2px rgba(0, 0, 0, 0.3));\n",
              "      fill: #FFFFFF;\n",
              "    }\n",
              "  </style>\n",
              "\n",
              "      <script>\n",
              "        const buttonEl =\n",
              "          document.querySelector('#df-307cd871-91a3-4cdc-b2df-b83446e1b072 button.colab-df-convert');\n",
              "        buttonEl.style.display =\n",
              "          google.colab.kernel.accessAllowed ? 'block' : 'none';\n",
              "\n",
              "        async function convertToInteractive(key) {\n",
              "          const element = document.querySelector('#df-307cd871-91a3-4cdc-b2df-b83446e1b072');\n",
              "          const dataTable =\n",
              "            await google.colab.kernel.invokeFunction('convertToInteractive',\n",
              "                                                     [key], {});\n",
              "          if (!dataTable) return;\n",
              "\n",
              "          const docLinkHtml = 'Like what you see? Visit the ' +\n",
              "            '<a target=\"_blank\" href=https://colab.research.google.com/notebooks/data_table.ipynb>data table notebook</a>'\n",
              "            + ' to learn more about interactive tables.';\n",
              "          element.innerHTML = '';\n",
              "          dataTable['output_type'] = 'display_data';\n",
              "          await google.colab.output.renderOutput(dataTable, element);\n",
              "          const docLink = document.createElement('div');\n",
              "          docLink.innerHTML = docLinkHtml;\n",
              "          element.appendChild(docLink);\n",
              "        }\n",
              "      </script>\n",
              "    </div>\n",
              "  </div>\n",
              "  "
            ]
          },
          "metadata": {},
          "execution_count": 16
        }
      ]
    },
    {
      "cell_type": "code",
      "source": [
        "df[df['content'] == 'Tarif Biskita Transpakuan Diusulkan Rp5.500, Pemkot Kaji Tiket Terusan https://t.co/WcU10NgIRO']"
      ],
      "metadata": {
        "colab": {
          "base_uri": "https://localhost:8080/",
          "height": 234
        },
        "id": "pZ4k5-omzY9m",
        "outputId": "b56c0a8f-5c5f-4a99-b008-dd0b18b1dbd1"
      },
      "execution_count": null,
      "outputs": [
        {
          "output_type": "execute_result",
          "data": {
            "text/plain": [
              "                          date                   id  \\\n",
              "1670 2023-01-05 07:48:58+00:00  1610906186353872898   \n",
              "408  2023-01-05 07:48:58+00:00  1610906186353872898   \n",
              "\n",
              "                                                                                             content  \\\n",
              "1670  Tarif Biskita Transpakuan Diusulkan Rp5.500, Pemkot Kaji Tiket Terusan https://t.co/WcU10NgIRO   \n",
              "408   Tarif Biskita Transpakuan Diusulkan Rp5.500, Pemkot Kaji Tiket Terusan https://t.co/WcU10NgIRO   \n",
              "\n",
              "          username  like_count  retweet_count  \n",
              "1670  radarbogorID           0              0  \n",
              "408   radarbogorID           0              0  "
            ],
            "text/html": [
              "\n",
              "  <div id=\"df-7b1f2d9d-d97a-4924-8542-d6e026cad624\">\n",
              "    <div class=\"colab-df-container\">\n",
              "      <div>\n",
              "<style scoped>\n",
              "    .dataframe tbody tr th:only-of-type {\n",
              "        vertical-align: middle;\n",
              "    }\n",
              "\n",
              "    .dataframe tbody tr th {\n",
              "        vertical-align: top;\n",
              "    }\n",
              "\n",
              "    .dataframe thead th {\n",
              "        text-align: right;\n",
              "    }\n",
              "</style>\n",
              "<table border=\"1\" class=\"dataframe\">\n",
              "  <thead>\n",
              "    <tr style=\"text-align: right;\">\n",
              "      <th></th>\n",
              "      <th>date</th>\n",
              "      <th>id</th>\n",
              "      <th>content</th>\n",
              "      <th>username</th>\n",
              "      <th>like_count</th>\n",
              "      <th>retweet_count</th>\n",
              "    </tr>\n",
              "  </thead>\n",
              "  <tbody>\n",
              "    <tr>\n",
              "      <th>1670</th>\n",
              "      <td>2023-01-05 07:48:58+00:00</td>\n",
              "      <td>1610906186353872898</td>\n",
              "      <td>Tarif Biskita Transpakuan Diusulkan Rp5.500, Pemkot Kaji Tiket Terusan https://t.co/WcU10NgIRO</td>\n",
              "      <td>radarbogorID</td>\n",
              "      <td>0</td>\n",
              "      <td>0</td>\n",
              "    </tr>\n",
              "    <tr>\n",
              "      <th>408</th>\n",
              "      <td>2023-01-05 07:48:58+00:00</td>\n",
              "      <td>1610906186353872898</td>\n",
              "      <td>Tarif Biskita Transpakuan Diusulkan Rp5.500, Pemkot Kaji Tiket Terusan https://t.co/WcU10NgIRO</td>\n",
              "      <td>radarbogorID</td>\n",
              "      <td>0</td>\n",
              "      <td>0</td>\n",
              "    </tr>\n",
              "  </tbody>\n",
              "</table>\n",
              "</div>\n",
              "      <button class=\"colab-df-convert\" onclick=\"convertToInteractive('df-7b1f2d9d-d97a-4924-8542-d6e026cad624')\"\n",
              "              title=\"Convert this dataframe to an interactive table.\"\n",
              "              style=\"display:none;\">\n",
              "        \n",
              "  <svg xmlns=\"http://www.w3.org/2000/svg\" height=\"24px\"viewBox=\"0 0 24 24\"\n",
              "       width=\"24px\">\n",
              "    <path d=\"M0 0h24v24H0V0z\" fill=\"none\"/>\n",
              "    <path d=\"M18.56 5.44l.94 2.06.94-2.06 2.06-.94-2.06-.94-.94-2.06-.94 2.06-2.06.94zm-11 1L8.5 8.5l.94-2.06 2.06-.94-2.06-.94L8.5 2.5l-.94 2.06-2.06.94zm10 10l.94 2.06.94-2.06 2.06-.94-2.06-.94-.94-2.06-.94 2.06-2.06.94z\"/><path d=\"M17.41 7.96l-1.37-1.37c-.4-.4-.92-.59-1.43-.59-.52 0-1.04.2-1.43.59L10.3 9.45l-7.72 7.72c-.78.78-.78 2.05 0 2.83L4 21.41c.39.39.9.59 1.41.59.51 0 1.02-.2 1.41-.59l7.78-7.78 2.81-2.81c.8-.78.8-2.07 0-2.86zM5.41 20L4 18.59l7.72-7.72 1.47 1.35L5.41 20z\"/>\n",
              "  </svg>\n",
              "      </button>\n",
              "      \n",
              "  <style>\n",
              "    .colab-df-container {\n",
              "      display:flex;\n",
              "      flex-wrap:wrap;\n",
              "      gap: 12px;\n",
              "    }\n",
              "\n",
              "    .colab-df-convert {\n",
              "      background-color: #E8F0FE;\n",
              "      border: none;\n",
              "      border-radius: 50%;\n",
              "      cursor: pointer;\n",
              "      display: none;\n",
              "      fill: #1967D2;\n",
              "      height: 32px;\n",
              "      padding: 0 0 0 0;\n",
              "      width: 32px;\n",
              "    }\n",
              "\n",
              "    .colab-df-convert:hover {\n",
              "      background-color: #E2EBFA;\n",
              "      box-shadow: 0px 1px 2px rgba(60, 64, 67, 0.3), 0px 1px 3px 1px rgba(60, 64, 67, 0.15);\n",
              "      fill: #174EA6;\n",
              "    }\n",
              "\n",
              "    [theme=dark] .colab-df-convert {\n",
              "      background-color: #3B4455;\n",
              "      fill: #D2E3FC;\n",
              "    }\n",
              "\n",
              "    [theme=dark] .colab-df-convert:hover {\n",
              "      background-color: #434B5C;\n",
              "      box-shadow: 0px 1px 3px 1px rgba(0, 0, 0, 0.15);\n",
              "      filter: drop-shadow(0px 1px 2px rgba(0, 0, 0, 0.3));\n",
              "      fill: #FFFFFF;\n",
              "    }\n",
              "  </style>\n",
              "\n",
              "      <script>\n",
              "        const buttonEl =\n",
              "          document.querySelector('#df-7b1f2d9d-d97a-4924-8542-d6e026cad624 button.colab-df-convert');\n",
              "        buttonEl.style.display =\n",
              "          google.colab.kernel.accessAllowed ? 'block' : 'none';\n",
              "\n",
              "        async function convertToInteractive(key) {\n",
              "          const element = document.querySelector('#df-7b1f2d9d-d97a-4924-8542-d6e026cad624');\n",
              "          const dataTable =\n",
              "            await google.colab.kernel.invokeFunction('convertToInteractive',\n",
              "                                                     [key], {});\n",
              "          if (!dataTable) return;\n",
              "\n",
              "          const docLinkHtml = 'Like what you see? Visit the ' +\n",
              "            '<a target=\"_blank\" href=https://colab.research.google.com/notebooks/data_table.ipynb>data table notebook</a>'\n",
              "            + ' to learn more about interactive tables.';\n",
              "          element.innerHTML = '';\n",
              "          dataTable['output_type'] = 'display_data';\n",
              "          await google.colab.output.renderOutput(dataTable, element);\n",
              "          const docLink = document.createElement('div');\n",
              "          docLink.innerHTML = docLinkHtml;\n",
              "          element.appendChild(docLink);\n",
              "        }\n",
              "      </script>\n",
              "    </div>\n",
              "  </div>\n",
              "  "
            ]
          },
          "metadata": {},
          "execution_count": 17
        }
      ]
    },
    {
      "cell_type": "markdown",
      "source": [
        "## Get the xlsx file"
      ],
      "metadata": {
        "id": "hc7lzua_uz3I"
      }
    },
    {
      "cell_type": "code",
      "source": [
        "# Convert datetime column to timezone-unaware\n",
        "df_drop['date'] = df_drop['date'].dt.tz_localize(None)\n",
        "\n",
        "df_drop.to_excel(\"bis_trans-2023.xlsx\", index=False)"
      ],
      "metadata": {
        "colab": {
          "base_uri": "https://localhost:8080/"
        },
        "id": "2weymwPpjLMW",
        "outputId": "2165c685-a267-4bfa-96ab-f12470a0134e"
      },
      "execution_count": null,
      "outputs": [
        {
          "output_type": "stream",
          "name": "stderr",
          "text": [
            "<ipython-input-17-27e826973ee7>:2: SettingWithCopyWarning: \n",
            "A value is trying to be set on a copy of a slice from a DataFrame.\n",
            "Try using .loc[row_indexer,col_indexer] = value instead\n",
            "\n",
            "See the caveats in the documentation: https://pandas.pydata.org/pandas-docs/stable/user_guide/indexing.html#returning-a-view-versus-a-copy\n",
            "  df_drop['date'] = df_drop['date'].dt.tz_localize(None)\n"
          ]
        }
      ]
    }
  ]
}