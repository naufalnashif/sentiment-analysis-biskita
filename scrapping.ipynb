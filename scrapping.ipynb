# using colab

!pip install snscrape
import pandas as pd 
import snscrape.modules.twitter as sntwitter
from tqdm.notebook import tqdm

# Set display
pd.set_option('max_rows', 15)
pd.set_option('max_colwidth', 400)
pd.describe_option('max_colwidth')


#-------------------- scrapping syntax using snscrape -------------------

#------------------ 4 Bulan Setelah Launching ---------------------
#scrapper = sntwitter.TwitterSearchScraper("Trans Pakuan until:2022-02-28 since:2021-11-01")
#scrapper = sntwitter.TwitterSearchScraper("biskita until:2022-02-28 since:2021-11-01")
#------------------4 Bulan setelah 1 tahun beroperasi dan saat isu diterapkannya tarif -------------------
#scrapper = sntwitter.TwitterSearchScraper("Trans Pakuan until:2023-02-28 since:2022-11-01")
#scrapper = sntwitter.TwitterSearchScraper("biskita until:2023-02-28 since:2022-11-01")

tweets = []
n_tweets = 9_000
for i,tweet in tqdm(enumerate(scrapper.get_items()), total=n_tweets):
  data = [
    tweet.date,
    tweet.id,
    tweet.rawContent,
    tweet.user.username,
    tweet.likeCount,
    tweet.retweetCount,
  ]
  tweets.append(data)
  if i > n_tweets : 
    break

df_bis_maret = pd.DataFrame(
    tweets, columns=["date", "id", "content", "username", "like_count", "retweet_count" ]
)
df_bis_maret.to_csv('Biskita_Maret.csv')
